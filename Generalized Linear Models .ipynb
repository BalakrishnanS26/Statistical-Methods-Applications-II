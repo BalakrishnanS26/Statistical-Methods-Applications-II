{
 "cells": [
  {
   "cell_type": "markdown",
   "metadata": {},
   "source": [
    "# Generalized Linear Models \n",
    "\n",
    "\n",
    "## Problem #1\n",
    "In January 1986, the space shuttle Challenger exploded shortly after launch. An investigation was launched into the cause of the crash and attention focused on the rubber O-ring seals in the rocket boosters. At lower temperatures, rubber becomes more brittle and is a less effective sealant. At the time of the launch, the temperature was 31°F. Could the failure of the O-rings have been predicted? In the 23 previous shuttle missions for which data exists, some evidence of damage due to blow by and erosion was recorded on some O-rings. Each shuttle had two boosters, each with three O-rings. For each mission, we know the number of O-rings out of six showing some damage and the launch temperature. \n",
    "\n",
    "The 'orings' is a data frame with 23 observations on the following 2 variables.\n",
    "\n",
    "1. temp:  Ambient temperature (Fahrenheit) at launch time\n",
    "2. damage: Number of damaged 'O' rings (out of a total of 6)\n",
    "\n",
    "#### (a) Construct a new variable called prop, which is the proportion of damaged 'O' rings. Plot prop against temperature. What do you notice about this plot?"
   ]
  },
  {
   "cell_type": "code",
   "execution_count": 1,
   "metadata": {
    "scrolled": false
   },
   "outputs": [
    {
     "data": {
      "text/html": [
       "<table>\n",
       "<thead><tr><th scope=col>temp</th><th scope=col>damage</th></tr></thead>\n",
       "<tbody>\n",
       "\t<tr><td>53</td><td>5 </td></tr>\n",
       "\t<tr><td>57</td><td>1 </td></tr>\n",
       "\t<tr><td>58</td><td>1 </td></tr>\n",
       "\t<tr><td>63</td><td>1 </td></tr>\n",
       "\t<tr><td>66</td><td>0 </td></tr>\n",
       "\t<tr><td>67</td><td>0 </td></tr>\n",
       "</tbody>\n",
       "</table>\n"
      ],
      "text/latex": [
       "\\begin{tabular}{r|ll}\n",
       " temp & damage\\\\\n",
       "\\hline\n",
       "\t 53 & 5 \\\\\n",
       "\t 57 & 1 \\\\\n",
       "\t 58 & 1 \\\\\n",
       "\t 63 & 1 \\\\\n",
       "\t 66 & 0 \\\\\n",
       "\t 67 & 0 \\\\\n",
       "\\end{tabular}\n"
      ],
      "text/markdown": [
       "\n",
       "temp | damage | \n",
       "|---|---|---|---|---|---|\n",
       "| 53 | 5  | \n",
       "| 57 | 1  | \n",
       "| 58 | 1  | \n",
       "| 63 | 1  | \n",
       "| 66 | 0  | \n",
       "| 67 | 0  | \n",
       "\n",
       "\n"
      ],
      "text/plain": [
       "  temp damage\n",
       "1 53   5     \n",
       "2 57   1     \n",
       "3 58   1     \n",
       "4 63   1     \n",
       "5 66   0     \n",
       "6 67   0     "
      ]
     },
     "metadata": {},
     "output_type": "display_data"
    }
   ],
   "source": [
    "rm(list = ls())\n",
    "library(faraway)\n",
    "library(MASS)\n",
    "#library(aod) #wald.test\n",
    "#library(lmtest) #lrtest (likelihood ratio test--same as anova)\n",
    "\n",
    "data(orings)\n",
    "head(orings)"
   ]
  },
  {
   "cell_type": "code",
   "execution_count": 51,
   "metadata": {},
   "outputs": [
    {
     "data": {
      "image/png": "[encoded data removed]",
      "text/plain": [
       "plot without title"
      ]
     },
     "metadata": {},
     "output_type": "display_data"
    }
   ],
   "source": [
    "plot(orings$temp, orings$prop, xlim=c(25, 85), ylim=c(0, 1))"
   ]
  },
  {
   "cell_type": "markdown",
   "metadata": {},
   "source": [
    "#### As we can see from the above chart, as temperature goes up, the proportion of damaged 'O' rings go down."
   ]
  },
  {
   "cell_type": "markdown",
   "metadata": {},
   "source": [
    "#### (b) Let's use the 'glm' function for fitting the logit model (logistic regression). The first argument will be the model: RESPONSE ~ PREDICTORS. For binomial response data, we need two pieces of information about the response values—y and n. Thus for binomial families, the response can be specified as a two-column matrix with the columns giving the numbers of successes and failures. You'll also need to specify the family argument, and the data argument. Other arguments should include 'data' and 'family'. Use ?glm to specify these arguments.\n"
   ]
  },
  {
   "cell_type": "code",
   "execution_count": 46,
   "metadata": {},
   "outputs": [
    {
     "data": {
      "text/plain": [
       "\n",
       "Call:\n",
       "glm(formula = Y ~ temp, family = \"binomial\", data = orings)\n",
       "\n",
       "Deviance Residuals: \n",
       "    Min       1Q   Median       3Q      Max  \n",
       "-0.9529  -0.7345  -0.4393  -0.2079   1.9565  \n",
       "\n",
       "Coefficients:\n",
       "            Estimate Std. Error z value Pr(>|z|)    \n",
       "(Intercept) 11.66299    3.29626   3.538 0.000403 ***\n",
       "temp        -0.21623    0.05318  -4.066 4.78e-05 ***\n",
       "---\n",
       "Signif. codes:  0 '***' 0.001 '**' 0.01 '*' 0.05 '.' 0.1 ' ' 1\n",
       "\n",
       "(Dispersion parameter for binomial family taken to be 1)\n",
       "\n",
       "    Null deviance: 38.898  on 22  degrees of freedom\n",
       "Residual deviance: 16.912  on 21  degrees of freedom\n",
       "AIC: 33.675\n",
       "\n",
       "Number of Fisher Scoring iterations: 6\n"
      ]
     },
     "metadata": {},
     "output_type": "display_data"
    }
   ],
   "source": [
    "Y <- as.matrix(orings %>% mutate(undamage = 6 - damage) %>% select(damage, undamage))\n",
    "\n",
    "glmod1 <- glm(Y ~ temp, data=orings, family='binomial')\n",
    "\n",
    "summary(glmod1)"
   ]
  },
  {
   "cell_type": "markdown",
   "metadata": {},
   "source": [
    "#### (c) Plot the data again with the logit model. You can do this easily with the ilogit function."
   ]
  },
  {
   "cell_type": "code",
   "execution_count": 56,
   "metadata": {},
   "outputs": [
    {
     "data": {
      "image/png": "[encoded data removed]",
      "text/plain": [
       "plot without title"
      ]
     },
     "metadata": {},
     "output_type": "display_data"
    }
   ],
   "source": [
    "plot(orings$temp, orings$prop, xlim=c(25, 85), ylim=c(0, 1), xlab='Temperature', ylab='Proportion')\n",
    "x <- seq(25, 85, 1)\n",
    "lines(x, ilogit(11.66299 - 0.21623*x), col='red')"
   ]
  },
  {
   "cell_type": "markdown",
   "metadata": {},
   "source": [
    "#### (d) Now let's check the interpretation of $\\widehat{\\beta}_1$. Create a new temperature value of 45 and 46 degrees. Calculuate the odds of failure at 45 and 46 degrees. What is the ratio of these two odds? "
   ]
  },
  {
   "cell_type": "code",
   "execution_count": 4,
   "metadata": {},
   "outputs": [
    {
     "name": "stdout",
     "output_type": "stream",
     "text": [
      "The odds of failure at 45 degrees is: 6.907723 \n",
      "The odds of failure at 46 degrees is: 5.564516 \n",
      "The ratio of these two odds is: 1.241388"
     ]
    }
   ],
   "source": [
    "odds1 <- exp(11.66299 - 0.21623*45)\n",
    "odds2 <- exp(11.66299 - 0.21623*46)\n",
    "\n",
    "cat ('The odds of failure at 45 degrees is:', odds1, '\\n')\n",
    "cat ('The odds of failure at 46 degrees is:', odds2, '\\n')\n",
    "cat ('The ratio of these two odds is:', odds1/odds2)"
   ]
  },
  {
   "cell_type": "markdown",
   "metadata": {},
   "source": [
    "#### (e) Compute confidence intervals for the model parameters \"by hand\"."
   ]
  },
  {
   "cell_type": "code",
   "execution_count": 65,
   "metadata": {},
   "outputs": [
    {
     "data": {
      "text/plain": [
       "\n",
       "Call:\n",
       "glm(formula = Y ~ temp, family = \"binomial\", data = orings)\n",
       "\n",
       "Deviance Residuals: \n",
       "    Min       1Q   Median       3Q      Max  \n",
       "-0.9529  -0.7345  -0.4393  -0.2079   1.9565  \n",
       "\n",
       "Coefficients:\n",
       "            Estimate Std. Error z value Pr(>|z|)    \n",
       "(Intercept) 11.66299    3.29626   3.538 0.000403 ***\n",
       "temp        -0.21623    0.05318  -4.066 4.78e-05 ***\n",
       "---\n",
       "Signif. codes:  0 '***' 0.001 '**' 0.01 '*' 0.05 '.' 0.1 ' ' 1\n",
       "\n",
       "(Dispersion parameter for binomial family taken to be 1)\n",
       "\n",
       "    Null deviance: 38.898  on 22  degrees of freedom\n",
       "Residual deviance: 16.912  on 21  degrees of freedom\n",
       "AIC: 33.675\n",
       "\n",
       "Number of Fisher Scoring iterations: 6\n"
      ]
     },
     "metadata": {},
     "output_type": "display_data"
    }
   ],
   "source": [
    "summary(glmod1)"
   ]
  },
  {
   "cell_type": "code",
   "execution_count": 88,
   "metadata": {},
   "outputs": [
    {
     "name": "stdout",
     "output_type": "stream",
     "text": [
      "95% confidence interval for intercept is: 5.20238 18.1236 \n",
      "95% confidence interval for temp is: -0.3204645 -0.1120028"
     ]
    }
   ],
   "source": [
    "alpha <- 0.05\n",
    "\n",
    "CI.intercept <- c(glmod$coefficients[1] + qnorm(alpha/2)*3.29629, glmod$coefficients[1] - qnorm(alpha/2)*3.29629)\n",
    "\n",
    "CI.temp <- c(glmod$coefficients[2] + qnorm(alpha/2)*0.05318, glmod$coefficients[2] - qnorm(alpha/2)*0.05318)\n",
    "\n",
    "cat('95% confidence interval for intercept is:', CI.intercept, '\\n')\n",
    "cat('95% confidence interval for temp is:', CI.temp)"
   ]
  },
  {
   "cell_type": "markdown",
   "metadata": {},
   "source": [
    "#### (f) Now compute them using confint(glmod). Notice that these intervals are slightly different; they are based on the profile likelihood and do not assume asymptotic normality. They are more accurate for small sample sizes. Profile likelihood confidence intervals don’t assume normality of the estimator and appear to perform better for small samples sizes than Wald CIs (above). They are, nonetheless, still based on an asymptotic approximation – the asymptotic chi-square distribution of the log likelihood ratio test statistic. (for more info: http://www.math.umt.edu/patterson/ProfileLikelihoodCI.pdf)"
   ]
  },
  {
   "cell_type": "code",
   "execution_count": 90,
   "metadata": {},
   "outputs": [
    {
     "name": "stderr",
     "output_type": "stream",
     "text": [
      "Waiting for profiling to be done...\n"
     ]
    },
    {
     "data": {
      "text/html": [
       "<table>\n",
       "<thead><tr><th></th><th scope=col>2.5 %</th><th scope=col>97.5 %</th></tr></thead>\n",
       "<tbody>\n",
       "\t<tr><th scope=row>(Intercept)</th><td> 5.575195</td><td>18.737598</td></tr>\n",
       "\t<tr><th scope=row>temp</th><td>-0.332657</td><td>-0.120179</td></tr>\n",
       "</tbody>\n",
       "</table>\n"
      ],
      "text/latex": [
       "\\begin{tabular}{r|ll}\n",
       "  & 2.5 \\% & 97.5 \\%\\\\\n",
       "\\hline\n",
       "\t(Intercept) &  5.575195 & 18.737598\\\\\n",
       "\ttemp & -0.332657 & -0.120179\\\\\n",
       "\\end{tabular}\n"
      ],
      "text/markdown": [
       "\n",
       "| <!--/--> | 2.5 % | 97.5 % | \n",
       "|---|---|\n",
       "| (Intercept) |  5.575195 | 18.737598 | \n",
       "| temp | -0.332657 | -0.120179 | \n",
       "\n",
       "\n"
      ],
      "text/plain": [
       "            2.5 %     97.5 %   \n",
       "(Intercept)  5.575195 18.737598\n",
       "temp        -0.332657 -0.120179"
      ]
     },
     "metadata": {},
     "output_type": "display_data"
    }
   ],
   "source": [
    "confint(glmod1)"
   ]
  },
  {
   "cell_type": "markdown",
   "metadata": {},
   "source": [
    "#### (g) Predict the probability of faulire at Temp = 45 degrees.\n"
   ]
  },
  {
   "cell_type": "code",
   "execution_count": 96,
   "metadata": {},
   "outputs": [
    {
     "name": "stdout",
     "output_type": "stream",
     "text": [
      "The probability of faulire at Temp = 45 degrees is: 0.8735231"
     ]
    }
   ],
   "source": [
    "cat ('The probability of faulire at Temp = 45 degrees is:', ilogit(glmod$coefficients[1] + glmod$coefficients[2]*45))"
   ]
  },
  {
   "cell_type": "markdown",
   "metadata": {},
   "source": [
    "## Problem #2 \n",
    "\n",
    "A researcher is interested in how variables, such as gre (Graduate Record Exam scores), gpa (grade point average) and prestige of the undergraduate institution (rank), effect admission into graduate school. The response variable, admit/don't admit, is a binary variable.\n",
    "\n"
   ]
  },
  {
   "cell_type": "code",
   "execution_count": 98,
   "metadata": {},
   "outputs": [
    {
     "data": {
      "text/html": [
       "<table>\n",
       "<thead><tr><th scope=col>admit</th><th scope=col>gre</th><th scope=col>gpa</th><th scope=col>rank</th></tr></thead>\n",
       "<tbody>\n",
       "\t<tr><td>0   </td><td>380 </td><td>3.61</td><td>3   </td></tr>\n",
       "\t<tr><td>1   </td><td>660 </td><td>3.67</td><td>3   </td></tr>\n",
       "\t<tr><td>1   </td><td>800 </td><td>4.00</td><td>1   </td></tr>\n",
       "\t<tr><td>1   </td><td>640 </td><td>3.19</td><td>4   </td></tr>\n",
       "\t<tr><td>0   </td><td>520 </td><td>2.93</td><td>4   </td></tr>\n",
       "\t<tr><td>1   </td><td>760 </td><td>3.00</td><td>2   </td></tr>\n",
       "</tbody>\n",
       "</table>\n"
      ],
      "text/latex": [
       "\\begin{tabular}{r|llll}\n",
       " admit & gre & gpa & rank\\\\\n",
       "\\hline\n",
       "\t 0    & 380  & 3.61 & 3   \\\\\n",
       "\t 1    & 660  & 3.67 & 3   \\\\\n",
       "\t 1    & 800  & 4.00 & 1   \\\\\n",
       "\t 1    & 640  & 3.19 & 4   \\\\\n",
       "\t 0    & 520  & 2.93 & 4   \\\\\n",
       "\t 1    & 760  & 3.00 & 2   \\\\\n",
       "\\end{tabular}\n"
      ],
      "text/markdown": [
       "\n",
       "admit | gre | gpa | rank | \n",
       "|---|---|---|---|---|---|\n",
       "| 0    | 380  | 3.61 | 3    | \n",
       "| 1    | 660  | 3.67 | 3    | \n",
       "| 1    | 800  | 4.00 | 1    | \n",
       "| 1    | 640  | 3.19 | 4    | \n",
       "| 0    | 520  | 2.93 | 4    | \n",
       "| 1    | 760  | 3.00 | 2    | \n",
       "\n",
       "\n"
      ],
      "text/plain": [
       "  admit gre gpa  rank\n",
       "1 0     380 3.61 3   \n",
       "2 1     660 3.67 3   \n",
       "3 1     800 4.00 1   \n",
       "4 1     640 3.19 4   \n",
       "5 0     520 2.93 4   \n",
       "6 1     760 3.00 2   "
      ]
     },
     "metadata": {},
     "output_type": "display_data"
    }
   ],
   "source": [
    "admission = read.csv(\"https://stats.idre.ucla.edu/stat/data/binary.csv\")\n",
    "head(admission)"
   ]
  },
  {
   "cell_type": "markdown",
   "metadata": {},
   "source": [
    "#### (a) Perform logistic regression treating ${\\tt admit}$ as the response. Be sure to treat ${\\tt rank}$ as a categorical variable."
   ]
  },
  {
   "cell_type": "code",
   "execution_count": 103,
   "metadata": {},
   "outputs": [
    {
     "data": {
      "text/plain": [
       "\n",
       "Call:\n",
       "glm(formula = admit ~ gre + gpa + rank, family = binomial, data = admission)\n",
       "\n",
       "Deviance Residuals: \n",
       "    Min       1Q   Median       3Q      Max  \n",
       "-1.6268  -0.8662  -0.6388   1.1490   2.0790  \n",
       "\n",
       "Coefficients:\n",
       "             Estimate Std. Error z value Pr(>|z|)    \n",
       "(Intercept) -3.989979   1.139951  -3.500 0.000465 ***\n",
       "gre          0.002264   0.001094   2.070 0.038465 *  \n",
       "gpa          0.804038   0.331819   2.423 0.015388 *  \n",
       "rank2       -0.675443   0.316490  -2.134 0.032829 *  \n",
       "rank3       -1.340204   0.345306  -3.881 0.000104 ***\n",
       "rank4       -1.551464   0.417832  -3.713 0.000205 ***\n",
       "---\n",
       "Signif. codes:  0 '***' 0.001 '**' 0.01 '*' 0.05 '.' 0.1 ' ' 1\n",
       "\n",
       "(Dispersion parameter for binomial family taken to be 1)\n",
       "\n",
       "    Null deviance: 499.98  on 399  degrees of freedom\n",
       "Residual deviance: 458.52  on 394  degrees of freedom\n",
       "AIC: 470.52\n",
       "\n",
       "Number of Fisher Scoring iterations: 4\n"
      ]
     },
     "metadata": {},
     "output_type": "display_data"
    }
   ],
   "source": [
    "admission$rank <- as.factor(admission$rank)\n",
    "glmod2 <- glm(admit ~ gre + gpa + rank, data=admission, family=binomial)\n",
    "summary(glmod2)"
   ]
  },
  {
   "cell_type": "markdown",
   "metadata": {},
   "source": [
    "#### (b) Construct a reduced model without the ${\\tt rank}$ variable. Conduct the likelihood ratio test to decide whether the reduced model is sufficient. You can do this using ${\\tt anova}$ or ${\\tt lrtest}$."
   ]
  },
  {
   "cell_type": "code",
   "execution_count": 108,
   "metadata": {},
   "outputs": [
    {
     "data": {
      "text/html": [
       "<table>\n",
       "<thead><tr><th scope=col>Resid. Df</th><th scope=col>Resid. Dev</th><th scope=col>Df</th><th scope=col>Deviance</th><th scope=col>Pr(&gt;Chi)</th></tr></thead>\n",
       "<tbody>\n",
       "\t<tr><td>397         </td><td>480.3440    </td><td>NA          </td><td>      NA    </td><td>          NA</td></tr>\n",
       "\t<tr><td>394         </td><td>458.5175    </td><td> 3          </td><td>21.82649    </td><td>7.088456e-05</td></tr>\n",
       "</tbody>\n",
       "</table>\n"
      ],
      "text/latex": [
       "\\begin{tabular}{r|lllll}\n",
       " Resid. Df & Resid. Dev & Df & Deviance & Pr(>Chi)\\\\\n",
       "\\hline\n",
       "\t 397          & 480.3440     & NA           &       NA     &           NA\\\\\n",
       "\t 394          & 458.5175     &  3           & 21.82649     & 7.088456e-05\\\\\n",
       "\\end{tabular}\n"
      ],
      "text/markdown": [
       "\n",
       "Resid. Df | Resid. Dev | Df | Deviance | Pr(>Chi) | \n",
       "|---|---|\n",
       "| 397          | 480.3440     | NA           |       NA     |           NA | \n",
       "| 394          | 458.5175     |  3           | 21.82649     | 7.088456e-05 | \n",
       "\n",
       "\n"
      ],
      "text/plain": [
       "  Resid. Df Resid. Dev Df Deviance Pr(>Chi)    \n",
       "1 397       480.3440   NA       NA           NA\n",
       "2 394       458.5175    3 21.82649 7.088456e-05"
      ]
     },
     "metadata": {},
     "output_type": "display_data"
    }
   ],
   "source": [
    "glmod3 <- glm(admit ~ gre + gpa, data=admission, family=binomial)\n",
    "anova(glmod3, glmod2, test='Chi')"
   ]
  },
  {
   "cell_type": "markdown",
   "metadata": {},
   "source": [
    "### Since the p-value is way smaller than 0.05, so we will reject the null hypothesis, thses we need the full model."
   ]
  },
  {
   "cell_type": "markdown",
   "metadata": {},
   "source": [
    "## Problem #3\n",
    "\n",
    "For each 30 Galapagos islands, we have a count of the number of plant species found on each island and the number that are endemic to that island. We also have five geographic variables for each island. \n",
    "\n",
    "1. Species: the number of plant species found on the island\n",
    "2. Endemics: the number of endemic species\n",
    "3. Area: the area of the island (km$^2$)\n",
    "4. Elevation: the highest elevation of the island (m)\n",
    "5. Nearest: the distance from the nearest island (km)\n",
    "6. Scruz: the distance from Santa Cruz island (km)\n",
    "7. Adjacent: the area of the adjacent island (square km)\n",
    "\n",
    "#### (a) Remove the Endemics variable from the dataframe, and fit a linear model with Species as the respons and all other variables as predictors. Run some diagnostics and explain why this model is not the best fit."
   ]
  },
  {
   "cell_type": "code",
   "execution_count": 10,
   "metadata": {},
   "outputs": [
    {
     "data": {
      "text/html": [
       "<table>\n",
       "<thead><tr><th></th><th scope=col>Species</th><th scope=col>Endemics</th><th scope=col>Area</th><th scope=col>Elevation</th><th scope=col>Nearest</th><th scope=col>Scruz</th><th scope=col>Adjacent</th></tr></thead>\n",
       "<tbody>\n",
       "\t<tr><th scope=row>Baltra</th><td>58    </td><td>23    </td><td>25.09 </td><td>346   </td><td>0.6   </td><td> 0.6  </td><td>  1.84</td></tr>\n",
       "\t<tr><th scope=row>Bartolome</th><td>31    </td><td>21    </td><td> 1.24 </td><td>109   </td><td>0.6   </td><td>26.3  </td><td>572.33</td></tr>\n",
       "\t<tr><th scope=row>Caldwell</th><td> 3    </td><td> 3    </td><td> 0.21 </td><td>114   </td><td>2.8   </td><td>58.7  </td><td>  0.78</td></tr>\n",
       "\t<tr><th scope=row>Champion</th><td>25    </td><td> 9    </td><td> 0.10 </td><td> 46   </td><td>1.9   </td><td>47.4  </td><td>  0.18</td></tr>\n",
       "\t<tr><th scope=row>Coamano</th><td> 2    </td><td> 1    </td><td> 0.05 </td><td> 77   </td><td>1.9   </td><td> 1.9  </td><td>903.82</td></tr>\n",
       "\t<tr><th scope=row>Daphne.Major</th><td>18    </td><td>11    </td><td> 0.34 </td><td>119   </td><td>8.0   </td><td> 8.0  </td><td>  1.84</td></tr>\n",
       "</tbody>\n",
       "</table>\n"
      ],
      "text/latex": [
       "\\begin{tabular}{r|lllllll}\n",
       "  & Species & Endemics & Area & Elevation & Nearest & Scruz & Adjacent\\\\\n",
       "\\hline\n",
       "\tBaltra & 58     & 23     & 25.09  & 346    & 0.6    &  0.6   &   1.84\\\\\n",
       "\tBartolome & 31     & 21     &  1.24  & 109    & 0.6    & 26.3   & 572.33\\\\\n",
       "\tCaldwell &  3     &  3     &  0.21  & 114    & 2.8    & 58.7   &   0.78\\\\\n",
       "\tChampion & 25     &  9     &  0.10  &  46    & 1.9    & 47.4   &   0.18\\\\\n",
       "\tCoamano &  2     &  1     &  0.05  &  77    & 1.9    &  1.9   & 903.82\\\\\n",
       "\tDaphne.Major & 18     & 11     &  0.34  & 119    & 8.0    &  8.0   &   1.84\\\\\n",
       "\\end{tabular}\n"
      ],
      "text/markdown": [
       "\n",
       "| <!--/--> | Species | Endemics | Area | Elevation | Nearest | Scruz | Adjacent | \n",
       "|---|---|---|---|---|---|\n",
       "| Baltra | 58     | 23     | 25.09  | 346    | 0.6    |  0.6   |   1.84 | \n",
       "| Bartolome | 31     | 21     |  1.24  | 109    | 0.6    | 26.3   | 572.33 | \n",
       "| Caldwell |  3     |  3     |  0.21  | 114    | 2.8    | 58.7   |   0.78 | \n",
       "| Champion | 25     |  9     |  0.10  |  46    | 1.9    | 47.4   |   0.18 | \n",
       "| Coamano |  2     |  1     |  0.05  |  77    | 1.9    |  1.9   | 903.82 | \n",
       "| Daphne.Major | 18     | 11     |  0.34  | 119    | 8.0    |  8.0   |   1.84 | \n",
       "\n",
       "\n"
      ],
      "text/plain": [
       "             Species Endemics Area  Elevation Nearest Scruz Adjacent\n",
       "Baltra       58      23       25.09 346       0.6      0.6    1.84  \n",
       "Bartolome    31      21        1.24 109       0.6     26.3  572.33  \n",
       "Caldwell      3       3        0.21 114       2.8     58.7    0.78  \n",
       "Champion     25       9        0.10  46       1.9     47.4    0.18  \n",
       "Coamano       2       1        0.05  77       1.9      1.9  903.82  \n",
       "Daphne.Major 18      11        0.34 119       8.0      8.0    1.84  "
      ]
     },
     "metadata": {},
     "output_type": "display_data"
    }
   ],
   "source": [
    "library(faraway)\n",
    "data(gala)\n",
    "head(gala)\n",
    "gala <- gala[-2]"
   ]
  },
  {
   "cell_type": "code",
   "execution_count": 11,
   "metadata": {},
   "outputs": [
    {
     "data": {
      "text/plain": [
       "\n",
       "Call:\n",
       "lm(formula = Species ~ ., data = gala)\n",
       "\n",
       "Residuals:\n",
       "     Min       1Q   Median       3Q      Max \n",
       "-111.679  -34.898   -7.862   33.460  182.584 \n",
       "\n",
       "Coefficients:\n",
       "             Estimate Std. Error t value Pr(>|t|)    \n",
       "(Intercept)  7.068221  19.154198   0.369 0.715351    \n",
       "Area        -0.023938   0.022422  -1.068 0.296318    \n",
       "Elevation    0.319465   0.053663   5.953 3.82e-06 ***\n",
       "Nearest      0.009144   1.054136   0.009 0.993151    \n",
       "Scruz       -0.240524   0.215402  -1.117 0.275208    \n",
       "Adjacent    -0.074805   0.017700  -4.226 0.000297 ***\n",
       "---\n",
       "Signif. codes:  0 '***' 0.001 '**' 0.01 '*' 0.05 '.' 0.1 ' ' 1\n",
       "\n",
       "Residual standard error: 60.98 on 24 degrees of freedom\n",
       "Multiple R-squared:  0.7658,\tAdjusted R-squared:  0.7171 \n",
       "F-statistic:  15.7 on 5 and 24 DF,  p-value: 6.838e-07\n"
      ]
     },
     "metadata": {},
     "output_type": "display_data"
    }
   ],
   "source": [
    "lmod1 <- lm(Species ~ ., data=gala)\n",
    "summary(lmod1)"
   ]
  },
  {
   "cell_type": "code",
   "execution_count": 12,
   "metadata": {
    "scrolled": false
   },
   "outputs": [
    {
     "name": "stderr",
     "output_type": "stream",
     "text": [
      "Warning message in sqrt(crit * p * (1 - hh)/hh):\n",
      "\"NaNs produced\"Warning message in sqrt(crit * p * (1 - hh)/hh):\n",
      "\"NaNs produced\""
     ]
    },
    {
     "data": {
      "image/png": "[encoded data removed]",
      "text/plain": [
       "Plot with title \"\""
      ]
     },
     "metadata": {},
     "output_type": "display_data"
    }
   ],
   "source": [
    "par(mfrow=c(2,2))\n",
    "plot(lmod1)"
   ]
  },
  {
   "cell_type": "markdown",
   "metadata": {},
   "source": [
    "#### Based on the above we cannot consider the model to be a good fit. We can note that there is a curve in the residual plot and hence we can conclude that the linearity assumpation is violated. Also, the R-squared value is not that high."
   ]
  },
  {
   "cell_type": "markdown",
   "metadata": {},
   "source": [
    "#### (b) Recall that a square root transformation of the response might be helpful when the nonconstant variance assumption is violated. Try this transformation. "
   ]
  },
  {
   "cell_type": "code",
   "execution_count": 13,
   "metadata": {},
   "outputs": [
    {
     "data": {
      "text/plain": [
       "\n",
       "Call:\n",
       "lm(formula = sqrt(Species) ~ ., data = gala)\n",
       "\n",
       "Residuals:\n",
       "    Min      1Q  Median      3Q     Max \n",
       "-4.5572 -1.4969 -0.3031  1.3527  5.2110 \n",
       "\n",
       "Coefficients:\n",
       "              Estimate Std. Error t value Pr(>|t|)    \n",
       "(Intercept)  3.3919243  0.8712678   3.893 0.000690 ***\n",
       "Area        -0.0019718  0.0010199  -1.933 0.065080 .  \n",
       "Elevation    0.0164784  0.0024410   6.751 5.55e-07 ***\n",
       "Nearest      0.0249326  0.0479495   0.520 0.607844    \n",
       "Scruz       -0.0134826  0.0097980  -1.376 0.181509    \n",
       "Adjacent    -0.0033669  0.0008051  -4.182 0.000333 ***\n",
       "---\n",
       "Signif. codes:  0 '***' 0.001 '**' 0.01 '*' 0.05 '.' 0.1 ' ' 1\n",
       "\n",
       "Residual standard error: 2.774 on 24 degrees of freedom\n",
       "Multiple R-squared:  0.7827,\tAdjusted R-squared:  0.7374 \n",
       "F-statistic: 17.29 on 5 and 24 DF,  p-value: 2.874e-07\n"
      ]
     },
     "metadata": {},
     "output_type": "display_data"
    }
   ],
   "source": [
    "lmod2 <- lm(sqrt(Species) ~ ., data=gala)\n",
    "summary(lmod2)"
   ]
  },
  {
   "cell_type": "code",
   "execution_count": 144,
   "metadata": {},
   "outputs": [
    {
     "name": "stderr",
     "output_type": "stream",
     "text": [
      "Warning message in sqrt(crit * p * (1 - hh)/hh):\n",
      "\"NaNs produced\"Warning message in sqrt(crit * p * (1 - hh)/hh):\n",
      "\"NaNs produced\""
     ]
    },
    {
     "data": {
      "image/png": "[encoded data removed]",
      "text/plain": [
       "Plot with title \"\""
      ]
     },
     "metadata": {},
     "output_type": "display_data"
    }
   ],
   "source": [
    "par(mfrow=c(2,2))\n",
    "plot(lmod2)"
   ]
  },
  {
   "cell_type": "markdown",
   "metadata": {},
   "source": [
    "#### Based on the above plots, we can consider that the the linearity issue got better. However, the nomarlity assumption got worse."
   ]
  },
  {
   "cell_type": "markdown",
   "metadata": {},
   "source": [
    "#### (c) One issue with a transformation is that it makes interpretation less natural. Let's try a Poisson regression (with no transformation on the repsonse)."
   ]
  },
  {
   "cell_type": "code",
   "execution_count": 14,
   "metadata": {},
   "outputs": [
    {
     "data": {
      "text/plain": [
       "\n",
       "Call:\n",
       "glm(formula = Species ~ ., family = poisson(link = \"log\"), data = gala)\n",
       "\n",
       "Deviance Residuals: \n",
       "    Min       1Q   Median       3Q      Max  \n",
       "-8.2752  -4.4966  -0.9443   1.9168  10.1849  \n",
       "\n",
       "Coefficients:\n",
       "              Estimate Std. Error z value Pr(>|z|)    \n",
       "(Intercept)  3.155e+00  5.175e-02  60.963  < 2e-16 ***\n",
       "Area        -5.799e-04  2.627e-05 -22.074  < 2e-16 ***\n",
       "Elevation    3.541e-03  8.741e-05  40.507  < 2e-16 ***\n",
       "Nearest      8.826e-03  1.821e-03   4.846 1.26e-06 ***\n",
       "Scruz       -5.709e-03  6.256e-04  -9.126  < 2e-16 ***\n",
       "Adjacent    -6.630e-04  2.933e-05 -22.608  < 2e-16 ***\n",
       "---\n",
       "Signif. codes:  0 '***' 0.001 '**' 0.01 '*' 0.05 '.' 0.1 ' ' 1\n",
       "\n",
       "(Dispersion parameter for poisson family taken to be 1)\n",
       "\n",
       "    Null deviance: 3510.73  on 29  degrees of freedom\n",
       "Residual deviance:  716.85  on 24  degrees of freedom\n",
       "AIC: 889.68\n",
       "\n",
       "Number of Fisher Scoring iterations: 5\n"
      ]
     },
     "metadata": {},
     "output_type": "display_data"
    }
   ],
   "source": [
    "glmod4 <- glm(Species ~ ., data=gala, family=poisson(link='log'))\n",
    "\n",
    "summary(glmod4)"
   ]
  },
  {
   "cell_type": "markdown",
   "metadata": {},
   "source": [
    "#### (d) Interpret the parameter associated with Nearest. "
   ]
  },
  {
   "cell_type": "markdown",
   "metadata": {},
   "source": [
    "#### If the distance from the nearest island is increased by 1 km, then on average, a multiplicitive effect of $e^{8.826 \\times 10^{-3}}$ on the number of plant species found on the island."
   ]
  },
  {
   "cell_type": "markdown",
   "metadata": {},
   "source": [
    "#### (e) Calculate the deviance for Poisson regression. Does this value show up in the summary? Also, check the goodness of fit of this model using Pearson's $\\chi^2$ statistic. What do you conclude about the fit?"
   ]
  },
  {
   "cell_type": "code",
   "execution_count": 167,
   "metadata": {},
   "outputs": [
    {
     "name": "stdout",
     "output_type": "stream",
     "text": [
      "The deviance is 716.8458 and it show up as the residual deviance. \n"
     ]
    }
   ],
   "source": [
    "lambda <- predict(glmod4, type='response')\n",
    "y <- gala$Species\n",
    "D <- 2*sum(y*log(y/lambda) - (y-lambda))\n",
    "cat ('The deviance is', D, 'and it show up as the residual deviance.', '\\n')"
   ]
  },
  {
   "cell_type": "code",
   "execution_count": 171,
   "metadata": {},
   "outputs": [
    {
     "name": "stdout",
     "output_type": "stream",
     "text": [
      "The Pearson's Chi-squared statistic is: 761.9792"
     ]
    }
   ],
   "source": [
    "cat (\"The Pearson's Chi-squared statistic is:\", sum(residuals(glmod4, type = \"pearson\")^2))"
   ]
  },
  {
   "cell_type": "code",
   "execution_count": 178,
   "metadata": {},
   "outputs": [
    {
     "data": {
      "text/html": [
       "<table>\n",
       "<thead><tr><th></th><th scope=col>Df</th><th scope=col>Deviance</th><th scope=col>Resid. Df</th><th scope=col>Resid. Dev</th><th scope=col>Pr(&gt;Chi)</th></tr></thead>\n",
       "<tbody>\n",
       "\t<tr><th scope=row>NULL</th><td>NA           </td><td>       NA    </td><td>29           </td><td>3510.7286    </td><td>           NA</td></tr>\n",
       "\t<tr><th scope=row>Area</th><td> 1           </td><td>895.13716    </td><td>28           </td><td>2615.5915    </td><td>1.119301e-196</td></tr>\n",
       "\t<tr><th scope=row>Elevation</th><td> 1           </td><td>802.05366    </td><td>27           </td><td>1813.5378    </td><td>1.930010e-176</td></tr>\n",
       "\t<tr><th scope=row>Nearest</th><td> 1           </td><td> 15.71138    </td><td>26           </td><td>1797.8264    </td><td> 7.377911e-05</td></tr>\n",
       "\t<tr><th scope=row>Scruz</th><td> 1           </td><td>456.37225    </td><td>25           </td><td>1341.4542    </td><td>2.960463e-101</td></tr>\n",
       "\t<tr><th scope=row>Adjacent</th><td> 1           </td><td>624.60840    </td><td>24           </td><td> 716.8458    </td><td>7.437937e-138</td></tr>\n",
       "</tbody>\n",
       "</table>\n"
      ],
      "text/latex": [
       "\\begin{tabular}{r|lllll}\n",
       "  & Df & Deviance & Resid. Df & Resid. Dev & Pr(>Chi)\\\\\n",
       "\\hline\n",
       "\tNULL & NA            &        NA     & 29            & 3510.7286     &            NA\\\\\n",
       "\tArea &  1            & 895.13716     & 28            & 2615.5915     & 1.119301e-196\\\\\n",
       "\tElevation &  1            & 802.05366     & 27            & 1813.5378     & 1.930010e-176\\\\\n",
       "\tNearest &  1            &  15.71138     & 26            & 1797.8264     &  7.377911e-05\\\\\n",
       "\tScruz &  1            & 456.37225     & 25            & 1341.4542     & 2.960463e-101\\\\\n",
       "\tAdjacent &  1            & 624.60840     & 24            &  716.8458     & 7.437937e-138\\\\\n",
       "\\end{tabular}\n"
      ],
      "text/markdown": [
       "\n",
       "| <!--/--> | Df | Deviance | Resid. Df | Resid. Dev | Pr(>Chi) | \n",
       "|---|---|---|---|---|---|\n",
       "| NULL | NA            |        NA     | 29            | 3510.7286     |            NA | \n",
       "| Area |  1            | 895.13716     | 28            | 2615.5915     | 1.119301e-196 | \n",
       "| Elevation |  1            | 802.05366     | 27            | 1813.5378     | 1.930010e-176 | \n",
       "| Nearest |  1            |  15.71138     | 26            | 1797.8264     |  7.377911e-05 | \n",
       "| Scruz |  1            | 456.37225     | 25            | 1341.4542     | 2.960463e-101 | \n",
       "| Adjacent |  1            | 624.60840     | 24            |  716.8458     | 7.437937e-138 | \n",
       "\n",
       "\n"
      ],
      "text/plain": [
       "          Df Deviance  Resid. Df Resid. Dev Pr(>Chi)     \n",
       "NULL      NA        NA 29        3510.7286             NA\n",
       "Area       1 895.13716 28        2615.5915  1.119301e-196\n",
       "Elevation  1 802.05366 27        1813.5378  1.930010e-176\n",
       "Nearest    1  15.71138 26        1797.8264   7.377911e-05\n",
       "Scruz      1 456.37225 25        1341.4542  2.960463e-101\n",
       "Adjacent   1 624.60840 24         716.8458  7.437937e-138"
      ]
     },
     "metadata": {},
     "output_type": "display_data"
    }
   ],
   "source": [
    "anova(glmod4, test='Chisq')"
   ]
  },
  {
   "cell_type": "code",
   "execution_count": 180,
   "metadata": {},
   "outputs": [
    {
     "name": "stdout",
     "output_type": "stream",
     "text": [
      "The proportion of deviance explained by this model is: 0.7958117"
     ]
    }
   ],
   "source": [
    "cat('The proportion of deviance explained by poisson regression is:', 1-(716.85/3510.73))"
   ]
  },
  {
   "cell_type": "markdown",
   "metadata": {},
   "source": [
    "#### As noted above, the proportion of deviance explained by poisson regression is: 0.7958117,. This value is close to the linear model."
   ]
  },
  {
   "cell_type": "markdown",
   "metadata": {},
   "source": [
    "## Problem #4\n",
    "\n",
    "Research another type of GLM (beyond binomial and Poisson), find a dataset that is reasonably modeled by that GLM, and model it. Does the model fit well?"
   ]
  },
  {
   "cell_type": "markdown",
   "metadata": {},
   "source": [
    "### Data set wafer"
   ]
  },
  {
   "cell_type": "code",
   "execution_count": 6,
   "metadata": {},
   "outputs": [
    {
     "data": {
      "text/plain": [
       " x1    x2    x3    x4        resist     \n",
       " -:8   -:8   -:8   -:8   Min.   :165.7  \n",
       " +:8   +:8   +:8   +:8   1st Qu.:201.0  \n",
       "                         Median :214.2  \n",
       "                         Mean   :229.3  \n",
       "                         3rd Qu.:259.3  \n",
       "                         Max.   :339.9  "
      ]
     },
     "metadata": {},
     "output_type": "display_data"
    }
   ],
   "source": [
    "data(wafer)\n",
    "summary(wafer)"
   ]
  },
  {
   "cell_type": "markdown",
   "metadata": {},
   "source": [
    "### Gamma linear model"
   ]
  },
  {
   "cell_type": "code",
   "execution_count": 7,
   "metadata": {},
   "outputs": [
    {
     "data": {
      "text/plain": [
       "\n",
       "Call:\n",
       "glm(formula = resist ~ .^2, family = Gamma(link = log), data = wafer)\n",
       "\n",
       "Deviance Residuals: \n",
       "        1          2          3          4          5          6          7  \n",
       "-0.042660   0.017512   0.016572   0.007758  -0.029264   0.052499   0.053416  \n",
       "        8          9         10         11         12         13         14  \n",
       "-0.080985   0.032802  -0.008745  -0.007790  -0.016766   0.037406  -0.063659  \n",
       "       15         16  \n",
       "-0.064652   0.085267  \n",
       "\n",
       "Coefficients:\n",
       "             Estimate Std. Error t value Pr(>|t|)    \n",
       "(Intercept)  5.307727   0.068178  77.851 6.63e-09 ***\n",
       "x1+          0.186627   0.082226   2.270  0.07247 .  \n",
       "x2+         -0.199099   0.082226  -2.421  0.06002 .  \n",
       "x3+          0.436733   0.082226   5.311  0.00316 ** \n",
       "x4+          0.053277   0.082226   0.648  0.54560    \n",
       "x1+:x2+      0.020007   0.082226   0.243  0.81742    \n",
       "x1+:x3+     -0.154479   0.082226  -1.879  0.11907    \n",
       "x1+:x4+      0.007866   0.082226   0.096  0.92751    \n",
       "x2+:x3+     -0.176444   0.082226  -2.146  0.08469 .  \n",
       "x2+:x4+     -0.043926   0.082226  -0.534  0.61609    \n",
       "x3+:x4+     -0.182422   0.082226  -2.219  0.07727 .  \n",
       "---\n",
       "Signif. codes:  0 '***' 0.001 '**' 0.01 '*' 0.05 '.' 0.1 ' ' 1\n",
       "\n",
       "(Dispersion parameter for Gamma family taken to be 0.006761097)\n",
       "\n",
       "    Null deviance: 0.697837  on 15  degrees of freedom\n",
       "Residual deviance: 0.033882  on  5  degrees of freedom\n",
       "AIC: 144.11\n",
       "\n",
       "Number of Fisher Scoring iterations: 4\n"
      ]
     },
     "metadata": {},
     "output_type": "display_data"
    }
   ],
   "source": [
    "glmod5 <- glm(resist ~ . ^2, family=Gamma(link=log), data=wafer)\n",
    "summary(glmod5)"
   ]
  },
  {
   "cell_type": "markdown",
   "metadata": {},
   "source": [
    "### Goodness of Fit"
   ]
  },
  {
   "cell_type": "code",
   "execution_count": 9,
   "metadata": {},
   "outputs": [
    {
     "name": "stdout",
     "output_type": "stream",
     "text": [
      "The proportion of deviance explained by Gamma linear model is 0.9514471 This value is quite high and its considered to be good."
     ]
    }
   ],
   "source": [
    "cat ('The proportion of deviance explained by Gamma linear model is', 1 - (0.033882/0.697837), 'This value is quite high and its considered to be good.')"
   ]
  },
  {
   "cell_type": "code",
   "execution_count": null,
   "metadata": {},
   "outputs": [],
   "source": []
  }
 ],
 "metadata": {
  "kernelspec": {
   "display_name": "R",
   "language": "R",
   "name": "ir"
  },
  "language_info": {
   "codemirror_mode": "r",
   "file_extension": ".r",
   "mimetype": "text/x-r-source",
   "name": "R",
   "pygments_lexer": "r",
   "version": "3.5.1"
  }
 },
 "nbformat": 4,
 "nbformat_minor": 2
}
