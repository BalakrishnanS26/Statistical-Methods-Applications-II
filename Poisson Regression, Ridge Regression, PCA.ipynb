{
 "cells": [
  {
   "cell_type": "markdown",
   "metadata": {},
   "source": [
    "## B. Computational Problems"
   ]
  },
  {
   "cell_type": "markdown",
   "metadata": {},
   "source": [
    "### Problem B.1\n",
    "\n",
    "#### (a) Using the divusa data, fit a regression of with divorce as the response and unemployed, femlab, marriage, birth, and military as predictors. Compute the variance inflation factors VIFs for each $\\widehat\\beta_j$, $j = 1,...,p$. Is there evidence that collinearity causes some predictors not to be significant? Explain your answer.\n",
    "\n"
   ]
  },
  {
   "cell_type": "code",
   "execution_count": 1,
   "metadata": {},
   "outputs": [
    {
     "name": "stdout",
     "output_type": "stream",
     "text": [
      "'data.frame':\t77 obs. of  7 variables:\n",
      " $ year      : int  1920 1921 1922 1923 1924 1925 1926 1927 1928 1929 ...\n",
      " $ divorce   : num  8 7.2 6.6 7.1 7.2 7.2 7.5 7.8 7.8 8 ...\n",
      " $ unemployed: num  5.2 11.7 6.7 2.4 5 3.2 1.8 3.3 4.2 3.2 ...\n",
      " $ femlab    : num  22.7 22.8 22.9 23 23.1 ...\n",
      " $ marriage  : num  92 83 79.7 85.2 80.3 79.2 78.7 77 74.1 75.5 ...\n",
      " $ birth     : num  118 120 111 110 111 ...\n",
      " $ military  : num  3.22 3.56 2.46 2.21 2.29 ...\n"
     ]
    }
   ],
   "source": [
    "library(faraway) #vif() will calculate variance inflation factors...\n",
    "data(divusa)\n",
    "str(divusa)"
   ]
  },
  {
   "cell_type": "code",
   "execution_count": 2,
   "metadata": {},
   "outputs": [],
   "source": [
    "lmod.1<-lm(divorce~.-year,data=divusa)"
   ]
  },
  {
   "cell_type": "code",
   "execution_count": 3,
   "metadata": {},
   "outputs": [
    {
     "data": {
      "text/html": [
       "<dl class=dl-horizontal>\n",
       "\t<dt>unemployed</dt>\n",
       "\t\t<dd>2.25288785573732</dd>\n",
       "\t<dt>femlab</dt>\n",
       "\t\t<dd>3.61327568023518</dd>\n",
       "\t<dt>marriage</dt>\n",
       "\t\t<dd>2.86486398750274</dd>\n",
       "\t<dt>birth</dt>\n",
       "\t\t<dd>2.5854853502696</dd>\n",
       "\t<dt>military</dt>\n",
       "\t\t<dd>1.24959599784256</dd>\n",
       "</dl>\n"
      ],
      "text/latex": [
       "\\begin{description*}\n",
       "\\item[unemployed] 2.25288785573732\n",
       "\\item[femlab] 3.61327568023518\n",
       "\\item[marriage] 2.86486398750274\n",
       "\\item[birth] 2.5854853502696\n",
       "\\item[military] 1.24959599784256\n",
       "\\end{description*}\n"
      ],
      "text/markdown": [
       "unemployed\n",
       ":   2.25288785573732femlab\n",
       ":   3.61327568023518marriage\n",
       ":   2.86486398750274birth\n",
       ":   2.5854853502696military\n",
       ":   1.24959599784256\n",
       "\n"
      ],
      "text/plain": [
       "unemployed     femlab   marriage      birth   military \n",
       "  2.252888   3.613276   2.864864   2.585485   1.249596 "
      ]
     },
     "metadata": {},
     "output_type": "display_data"
    }
   ],
   "source": [
    "vif(lmod.1)"
   ]
  },
  {
   "cell_type": "markdown",
   "metadata": {},
   "source": [
    "#### Note that since the variance inflation factor shown in the above list is less than 4, we can say that there is no evidence that the collinearity makes some predictors insignificant."
   ]
  },
  {
   "cell_type": "code",
   "execution_count": 4,
   "metadata": {},
   "outputs": [
    {
     "data": {
      "text/plain": [
       "\n",
       "Call:\n",
       "lm(formula = divorce ~ . - year, data = divusa)\n",
       "\n",
       "Residuals:\n",
       "    Min      1Q  Median      3Q     Max \n",
       "-3.8611 -0.8916 -0.0496  0.8650  3.8300 \n",
       "\n",
       "Coefficients:\n",
       "            Estimate Std. Error t value Pr(>|t|)    \n",
       "(Intercept)  2.48784    3.39378   0.733   0.4659    \n",
       "unemployed  -0.11125    0.05592  -1.989   0.0505 .  \n",
       "femlab       0.38365    0.03059  12.543  < 2e-16 ***\n",
       "marriage     0.11867    0.02441   4.861 6.77e-06 ***\n",
       "birth       -0.12996    0.01560  -8.333 4.03e-12 ***\n",
       "military    -0.02673    0.01425  -1.876   0.0647 .  \n",
       "---\n",
       "Signif. codes:  0 '***' 0.001 '**' 0.01 '*' 0.05 '.' 0.1 ' ' 1\n",
       "\n",
       "Residual standard error: 1.65 on 71 degrees of freedom\n",
       "Multiple R-squared:  0.9208,\tAdjusted R-squared:  0.9152 \n",
       "F-statistic: 165.1 on 5 and 71 DF,  p-value: < 2.2e-16\n"
      ]
     },
     "metadata": {},
     "output_type": "display_data"
    }
   ],
   "source": [
    "summary(lmod.1)"
   ]
  },
  {
   "cell_type": "code",
   "execution_count": 5,
   "metadata": {},
   "outputs": [
    {
     "data": {
      "text/plain": [
       "\n",
       "Call:\n",
       "lm(formula = divorce ~ unemployed + femlab + marriage + birth, \n",
       "    data = divusa)\n",
       "\n",
       "Residuals:\n",
       "    Min      1Q  Median      3Q     Max \n",
       "-3.8559 -0.9217 -0.0119  0.9055  4.0391 \n",
       "\n",
       "Coefficients:\n",
       "            Estimate Std. Error t value Pr(>|t|)    \n",
       "(Intercept)  2.61346    3.45201   0.757    0.451    \n",
       "unemployed  -0.08613    0.05524  -1.559    0.123    \n",
       "femlab       0.38004    0.03106  12.237  < 2e-16 ***\n",
       "marriage     0.10925    0.02431   4.495 2.61e-05 ***\n",
       "birth       -0.12782    0.01582  -8.078 1.10e-11 ***\n",
       "---\n",
       "Signif. codes:  0 '***' 0.001 '**' 0.01 '*' 0.05 '.' 0.1 ' ' 1\n",
       "\n",
       "Residual standard error: 1.679 on 72 degrees of freedom\n",
       "Multiple R-squared:  0.9169,\tAdjusted R-squared:  0.9123 \n",
       "F-statistic: 198.6 on 4 and 72 DF,  p-value: < 2.2e-16\n"
      ]
     },
     "metadata": {},
     "output_type": "display_data"
    }
   ],
   "source": [
    "lmod.1 = update(lmod.1, . ~ . -military)\n",
    "summary(lmod.1)"
   ]
  },
  {
   "cell_type": "code",
   "execution_count": 6,
   "metadata": {},
   "outputs": [
    {
     "data": {
      "text/html": [
       "<dl class=dl-horizontal>\n",
       "\t<dt>unemployed</dt>\n",
       "\t\t<dd>2.1237349394859</dd>\n",
       "\t<dt>femlab</dt>\n",
       "\t\t<dd>3.59899689919373</dd>\n",
       "\t<dt>marriage</dt>\n",
       "\t\t<dd>2.7437088865625</dd>\n",
       "\t<dt>birth</dt>\n",
       "\t\t<dd>2.57165044215606</dd>\n",
       "</dl>\n"
      ],
      "text/latex": [
       "\\begin{description*}\n",
       "\\item[unemployed] 2.1237349394859\n",
       "\\item[femlab] 3.59899689919373\n",
       "\\item[marriage] 2.7437088865625\n",
       "\\item[birth] 2.57165044215606\n",
       "\\end{description*}\n"
      ],
      "text/markdown": [
       "unemployed\n",
       ":   2.1237349394859femlab\n",
       ":   3.59899689919373marriage\n",
       ":   2.7437088865625birth\n",
       ":   2.57165044215606\n",
       "\n"
      ],
      "text/plain": [
       "unemployed     femlab   marriage      birth \n",
       "  2.123735   3.598997   2.743709   2.571650 "
      ]
     },
     "metadata": {},
     "output_type": "display_data"
    }
   ],
   "source": [
    "vif(lmod.1)"
   ]
  },
  {
   "cell_type": "code",
   "execution_count": 7,
   "metadata": {},
   "outputs": [
    {
     "data": {
      "text/plain": [
       "\n",
       "Call:\n",
       "lm(formula = divorce ~ femlab + marriage + birth, data = divusa)\n",
       "\n",
       "Residuals:\n",
       "    Min      1Q  Median      3Q     Max \n",
       "-3.6923 -1.1934 -0.0534  1.2265  3.6701 \n",
       "\n",
       "Coefficients:\n",
       "            Estimate Std. Error t value Pr(>|t|)    \n",
       "(Intercept) -1.54545    2.21247  -0.699    0.487    \n",
       "femlab       0.41337    0.02275  18.174  < 2e-16 ***\n",
       "marriage     0.12609    0.02199   5.735 2.07e-07 ***\n",
       "birth       -0.11627    0.01412  -8.235 5.10e-12 ***\n",
       "---\n",
       "Signif. codes:  0 '***' 0.001 '**' 0.01 '*' 0.05 '.' 0.1 ' ' 1\n",
       "\n",
       "Residual standard error: 1.695 on 73 degrees of freedom\n",
       "Multiple R-squared:  0.9141,\tAdjusted R-squared:  0.9106 \n",
       "F-statistic: 258.9 on 3 and 73 DF,  p-value: < 2.2e-16\n"
      ]
     },
     "metadata": {},
     "output_type": "display_data"
    }
   ],
   "source": [
    "lmod.1 = update(lmod.1, . ~ . -unemployed)\n",
    "summary(lmod.1)"
   ]
  },
  {
   "cell_type": "code",
   "execution_count": 8,
   "metadata": {},
   "outputs": [
    {
     "data": {
      "text/html": [
       "<dl class=dl-horizontal>\n",
       "\t<dt>femlab</dt>\n",
       "\t\t<dd>1.89339033653308</dd>\n",
       "\t<dt>marriage</dt>\n",
       "\t\t<dd>2.20189116801999</dd>\n",
       "\t<dt>birth</dt>\n",
       "\t\t<dd>2.00846940315787</dd>\n",
       "</dl>\n"
      ],
      "text/latex": [
       "\\begin{description*}\n",
       "\\item[femlab] 1.89339033653308\n",
       "\\item[marriage] 2.20189116801999\n",
       "\\item[birth] 2.00846940315787\n",
       "\\end{description*}\n"
      ],
      "text/markdown": [
       "femlab\n",
       ":   1.89339033653308marriage\n",
       ":   2.20189116801999birth\n",
       ":   2.00846940315787\n",
       "\n"
      ],
      "text/plain": [
       "  femlab marriage    birth \n",
       "1.893390 2.201891 2.008469 "
      ]
     },
     "metadata": {},
     "output_type": "display_data"
    }
   ],
   "source": [
    "vif(lmod.1)"
   ]
  },
  {
   "cell_type": "markdown",
   "metadata": {},
   "source": [
    "\n"
   ]
  },
  {
   "cell_type": "markdown",
   "metadata": {},
   "source": [
    "#### (b) Does the removal of insignificant predictors from the model reduce the collinearity? Investigate."
   ]
  },
  {
   "cell_type": "markdown",
   "metadata": {},
   "source": [
    "#### Note that we removed the insignificant factors. This led to making the VIF better. In short, yes the removal of insignificant predictors from the model reduce the collinearity."
   ]
  },
  {
   "cell_type": "markdown",
   "metadata": {},
   "source": [
    "### Problem B.2\n",
    "\n",
    "The salmonella data was collected in a salmonella reverse mutagenicity assay. The predictor is the dose level of quinoline and the response is the numbers of revertant colonies of TA98 salmonella observed on each of three replicate plates. \n",
    "\n",
    "#### (a) Show that a Poisson GLM is inadequate and that some overdispersion must be allowed for. "
   ]
  },
  {
   "cell_type": "code",
   "execution_count": 9,
   "metadata": {},
   "outputs": [
    {
     "data": {
      "text/html": [
       "<table>\n",
       "<thead><tr><th scope=col>colonies</th><th scope=col>dose</th></tr></thead>\n",
       "<tbody>\n",
       "\t<tr><td>15</td><td> 0</td></tr>\n",
       "\t<tr><td>21</td><td> 0</td></tr>\n",
       "\t<tr><td>29</td><td> 0</td></tr>\n",
       "\t<tr><td>16</td><td>10</td></tr>\n",
       "\t<tr><td>18</td><td>10</td></tr>\n",
       "\t<tr><td>21</td><td>10</td></tr>\n",
       "</tbody>\n",
       "</table>\n"
      ],
      "text/latex": [
       "\\begin{tabular}{r|ll}\n",
       " colonies & dose\\\\\n",
       "\\hline\n",
       "\t 15 &  0\\\\\n",
       "\t 21 &  0\\\\\n",
       "\t 29 &  0\\\\\n",
       "\t 16 & 10\\\\\n",
       "\t 18 & 10\\\\\n",
       "\t 21 & 10\\\\\n",
       "\\end{tabular}\n"
      ],
      "text/markdown": [
       "\n",
       "colonies | dose | \n",
       "|---|---|---|---|---|---|\n",
       "| 15 |  0 | \n",
       "| 21 |  0 | \n",
       "| 29 |  0 | \n",
       "| 16 | 10 | \n",
       "| 18 | 10 | \n",
       "| 21 | 10 | \n",
       "\n",
       "\n"
      ],
      "text/plain": [
       "  colonies dose\n",
       "1 15        0  \n",
       "2 21        0  \n",
       "3 29        0  \n",
       "4 16       10  \n",
       "5 18       10  \n",
       "6 21       10  "
      ]
     },
     "metadata": {},
     "output_type": "display_data"
    }
   ],
   "source": [
    "library(faraway)\n",
    "data(salmonella)\n",
    "head(salmonella)\n"
   ]
  },
  {
   "cell_type": "code",
   "execution_count": 10,
   "metadata": {},
   "outputs": [
    {
     "data": {
      "text/plain": [
       "\n",
       "Call:\n",
       "glm(formula = colonies ~ dose, family = poisson(link = \"log\"), \n",
       "    data = salmonella)\n",
       "\n",
       "Deviance Residuals: \n",
       "    Min       1Q   Median       3Q      Max  \n",
       "-2.6482  -1.8225  -0.2993   1.2917   5.1861  \n",
       "\n",
       "Coefficients:\n",
       "             Estimate Std. Error z value Pr(>|z|)    \n",
       "(Intercept) 3.3219950  0.0540292  61.485   <2e-16 ***\n",
       "dose        0.0001901  0.0001172   1.622    0.105    \n",
       "---\n",
       "Signif. codes:  0 '***' 0.001 '**' 0.01 '*' 0.05 '.' 0.1 ' ' 1\n",
       "\n",
       "(Dispersion parameter for poisson family taken to be 1)\n",
       "\n",
       "    Null deviance: 78.358  on 17  degrees of freedom\n",
       "Residual deviance: 75.806  on 16  degrees of freedom\n",
       "AIC: 172.34\n",
       "\n",
       "Number of Fisher Scoring iterations: 4\n"
      ]
     },
     "metadata": {},
     "output_type": "display_data"
    }
   ],
   "source": [
    "lmod.2<-glm(formula=colonies~dose,family=poisson(link='log'),data = salmonella)\n",
    "summary(lmod.2)"
   ]
  },
  {
   "cell_type": "code",
   "execution_count": 11,
   "metadata": {},
   "outputs": [
    {
     "name": "stderr",
     "output_type": "stream",
     "text": [
      "Warning message in drop1.glm(lmod.2, test = \"F\"):\n",
      "\"F test assumes 'quasipoisson' family\""
     ]
    },
    {
     "data": {
      "text/html": [
       "<table>\n",
       "<thead><tr><th></th><th scope=col>Df</th><th scope=col>Deviance</th><th scope=col>AIC</th><th scope=col>F value</th><th scope=col>Pr(&gt;F)</th></tr></thead>\n",
       "<tbody>\n",
       "\t<tr><th scope=row>&lt;none&gt;</th><td>NA       </td><td>75.80589 </td><td>172.3421 </td><td>       NA</td><td>       NA</td></tr>\n",
       "\t<tr><th scope=row>dose</th><td> 1       </td><td>78.35758 </td><td>172.8938 </td><td>0.5385732</td><td>0.4736424</td></tr>\n",
       "</tbody>\n",
       "</table>\n"
      ],
      "text/latex": [
       "\\begin{tabular}{r|lllll}\n",
       "  & Df & Deviance & AIC & F value & Pr(>F)\\\\\n",
       "\\hline\n",
       "\t<none> & NA        & 75.80589  & 172.3421  &        NA &        NA\\\\\n",
       "\tdose &  1        & 78.35758  & 172.8938  & 0.5385732 & 0.4736424\\\\\n",
       "\\end{tabular}\n"
      ],
      "text/markdown": [
       "\n",
       "| <!--/--> | Df | Deviance | AIC | F value | Pr(>F) | \n",
       "|---|---|\n",
       "| <none> | NA        | 75.80589  | 172.3421  |        NA |        NA | \n",
       "| dose |  1        | 78.35758  | 172.8938  | 0.5385732 | 0.4736424 | \n",
       "\n",
       "\n"
      ],
      "text/plain": [
       "       Df Deviance AIC      F value   Pr(>F)   \n",
       "<none> NA 75.80589 172.3421        NA        NA\n",
       "dose    1 78.35758 172.8938 0.5385732 0.4736424"
      ]
     },
     "metadata": {},
     "output_type": "display_data"
    }
   ],
   "source": [
    "drop1(lmod.2,test='F')"
   ]
  },
  {
   "cell_type": "markdown",
   "metadata": {},
   "source": [
    "#### Based on the above lmod 2 summary, we can see that the over-dispersion is fixed to 1. If the overdispersion is fixed to 1, then the p-value is 0.105. However, when we run the F-test, the p-value increased to 0.4736. This shows us that we must allow for over-dispersion."
   ]
  },
  {
   "cell_type": "markdown",
   "metadata": {},
   "source": [
    "#### (b) Estimate the overdispersion parameter and adjust the standard errors accordingly. "
   ]
  },
  {
   "cell_type": "code",
   "execution_count": 12,
   "metadata": {},
   "outputs": [
    {
     "data": {
      "text/plain": [
       "\n",
       "Call:\n",
       "glm(formula = colonies ~ dose, family = poisson(link = \"log\"), \n",
       "    data = salmonella)\n",
       "\n",
       "Deviance Residuals: \n",
       "    Min       1Q   Median       3Q      Max  \n",
       "-2.6482  -1.8225  -0.2993   1.2917   5.1861  \n",
       "\n",
       "Coefficients:\n",
       "             Estimate Std. Error z value Pr(>|z|)    \n",
       "(Intercept) 3.3219950  0.1218626  27.260   <2e-16 ***\n",
       "dose        0.0001901  0.0002644   0.719    0.472    \n",
       "---\n",
       "Signif. codes:  0 '***' 0.001 '**' 0.01 '*' 0.05 '.' 0.1 ' ' 1\n",
       "\n",
       "(Dispersion parameter for poisson family taken to be 5.087258)\n",
       "\n",
       "    Null deviance: 78.358  on 17  degrees of freedom\n",
       "Residual deviance: 75.806  on 16  degrees of freedom\n",
       "AIC: 172.34\n",
       "\n",
       "Number of Fisher Scoring iterations: 4\n"
      ]
     },
     "metadata": {},
     "output_type": "display_data"
    }
   ],
   "source": [
    "dp <- sum(resid(lmod.2,type='pearson')^2)/lmod.2$df.residual\n",
    "summary(lmod.2,dispersion=dp)"
   ]
  },
  {
   "cell_type": "markdown",
   "metadata": {},
   "source": [
    "### Problem B.3\n"
   ]
  },
  {
   "cell_type": "markdown",
   "metadata": {},
   "source": [
    "Consider the fat dataset, with percentage of body fat, siri, as the response and the other variables, except brozek and density, as potential predictors. \n",
    "\n",
    "#### Remove every tenth observation from the data for use as a test sample. Use the remaining data as a training sample building the following models:\n",
    "\n",
    "1. Linear regression with all mentioned predictors.\n",
    "2. Linear regression with variables selected using AIC.\n",
    "3. Principal component regression.\n",
    "4. Ridge regression.\n",
    "\n",
    "#### Use the models you find to predict the response in the test sample. Make a report on the performance of the models. "
   ]
  },
  {
   "cell_type": "code",
   "execution_count": 14,
   "metadata": {},
   "outputs": [
    {
     "name": "stderr",
     "output_type": "stream",
     "text": [
      "Warning message:\n",
      "\"package 'ridge' was built under R version 3.5.3\""
     ]
    }
   ],
   "source": [
    "library(leaps)\n",
    "library(MASS)\n",
    "library(ridge)"
   ]
  },
  {
   "cell_type": "code",
   "execution_count": 16,
   "metadata": {},
   "outputs": [
    {
     "name": "stdout",
     "output_type": "stream",
     "text": [
      "'data.frame':\t252 obs. of  18 variables:\n",
      " $ brozek : num  12.6 6.9 24.6 10.9 27.8 20.6 19 12.8 5.1 12 ...\n",
      " $ siri   : num  12.3 6.1 25.3 10.4 28.7 20.9 19.2 12.4 4.1 11.7 ...\n",
      " $ density: num  1.07 1.09 1.04 1.08 1.03 ...\n",
      " $ age    : int  23 22 22 26 24 24 26 25 25 23 ...\n",
      " $ weight : num  154 173 154 185 184 ...\n",
      " $ height : num  67.8 72.2 66.2 72.2 71.2 ...\n",
      " $ adipos : num  23.7 23.4 24.7 24.9 25.6 26.5 26.2 23.6 24.6 25.8 ...\n",
      " $ free   : num  135 161 116 165 133 ...\n",
      " $ neck   : num  36.2 38.5 34 37.4 34.4 39 36.4 37.8 38.1 42.1 ...\n",
      " $ chest  : num  93.1 93.6 95.8 101.8 97.3 ...\n",
      " $ abdom  : num  85.2 83 87.9 86.4 100 94.4 90.7 88.5 82.5 88.6 ...\n",
      " $ hip    : num  94.5 98.7 99.2 101.2 101.9 ...\n",
      " $ thigh  : num  59 58.7 59.6 60.1 63.2 66 58.4 60 62.9 63.1 ...\n",
      " $ knee   : num  37.3 37.3 38.9 37.3 42.2 42 38.3 39.4 38.3 41.7 ...\n",
      " $ ankle  : num  21.9 23.4 24 22.8 24 25.6 22.9 23.2 23.8 25 ...\n",
      " $ biceps : num  32 30.5 28.8 32.4 32.2 35.7 31.9 30.5 35.9 35.6 ...\n",
      " $ forearm: num  27.4 28.9 25.2 29.4 27.7 30.6 27.8 29 31.1 30 ...\n",
      " $ wrist  : num  17.1 18.2 16.6 18.2 17.7 18.8 17.7 18.8 18.2 19.2 ...\n"
     ]
    }
   ],
   "source": [
    "data(fat)\n",
    "str(fat)"
   ]
  },
  {
   "cell_type": "code",
   "execution_count": 18,
   "metadata": {},
   "outputs": [],
   "source": [
    "indices_test <- seq(10, nrow(fat), 10)\n",
    "test <- fat[indices_test,]\n",
    "train <- fat[-indices_test, ]\n",
    "\n",
    "X_train <- train[, 4:ncol(train)]\n",
    "y_train <- train$siri\n",
    "\n",
    "scaled_y_train <- (y_train - mean(train$siri))/sd(train$siri)\n",
    "scaled_X_train <- scale(X_train, colMeans(X_train), apply(X_train, 2, sd))\n",
    "\n",
    "train_scaled <- as.data.frame(cbind(siri=scaled_y_train, scaled_X_train))\n",
    "\n",
    "X_test <- test[, 4:ncol(test)]\n",
    "y_test <- test$siri\n",
    "\n",
    "scaled_X_test <- scale(X_test, colMeans(X_train), apply(X_train, 2, sd))\n",
    "scaled_y_test <- (y_test-mean(y_train))/sd(y_train)\n",
    "\n",
    "test_scaled <- as.data.frame(cbind(siri=scaled_y_test, scaled_X_test))"
   ]
  },
  {
   "cell_type": "code",
   "execution_count": 19,
   "metadata": {},
   "outputs": [
    {
     "data": {
      "text/html": [
       "<table>\n",
       "<thead><tr><th></th><th scope=col>(Intercept)</th><th scope=col>age</th><th scope=col>weight</th><th scope=col>height</th><th scope=col>adipos</th><th scope=col>free</th><th scope=col>neck</th><th scope=col>chest</th><th scope=col>abdom</th><th scope=col>hip</th><th scope=col>thigh</th><th scope=col>knee</th><th scope=col>ankle</th><th scope=col>biceps</th><th scope=col>forearm</th><th scope=col>wrist</th></tr></thead>\n",
       "<tbody>\n",
       "\t<tr><th scope=row>1</th><td>TRUE </td><td>FALSE</td><td>FALSE</td><td>FALSE</td><td>FALSE</td><td>FALSE</td><td>FALSE</td><td>FALSE</td><td> TRUE</td><td>FALSE</td><td>FALSE</td><td>FALSE</td><td>FALSE</td><td>FALSE</td><td>FALSE</td><td>FALSE</td></tr>\n",
       "\t<tr><th scope=row>2</th><td>TRUE </td><td>FALSE</td><td> TRUE</td><td>FALSE</td><td>FALSE</td><td> TRUE</td><td>FALSE</td><td>FALSE</td><td>FALSE</td><td>FALSE</td><td>FALSE</td><td>FALSE</td><td>FALSE</td><td>FALSE</td><td>FALSE</td><td>FALSE</td></tr>\n",
       "\t<tr><th scope=row>3</th><td>TRUE </td><td>FALSE</td><td> TRUE</td><td>FALSE</td><td>FALSE</td><td> TRUE</td><td>FALSE</td><td>FALSE</td><td>FALSE</td><td>FALSE</td><td>FALSE</td><td>FALSE</td><td>FALSE</td><td>FALSE</td><td> TRUE</td><td>FALSE</td></tr>\n",
       "\t<tr><th scope=row>4</th><td>TRUE </td><td>FALSE</td><td> TRUE</td><td>FALSE</td><td>FALSE</td><td> TRUE</td><td>FALSE</td><td>FALSE</td><td>FALSE</td><td>FALSE</td><td>FALSE</td><td> TRUE</td><td>FALSE</td><td>FALSE</td><td> TRUE</td><td>FALSE</td></tr>\n",
       "\t<tr><th scope=row>5</th><td>TRUE </td><td>FALSE</td><td> TRUE</td><td>FALSE</td><td> TRUE</td><td> TRUE</td><td>FALSE</td><td>FALSE</td><td> TRUE</td><td>FALSE</td><td>FALSE</td><td>FALSE</td><td>FALSE</td><td>FALSE</td><td> TRUE</td><td>FALSE</td></tr>\n",
       "\t<tr><th scope=row>6</th><td>TRUE </td><td>FALSE</td><td> TRUE</td><td>FALSE</td><td> TRUE</td><td> TRUE</td><td>FALSE</td><td>FALSE</td><td> TRUE</td><td>FALSE</td><td> TRUE</td><td>FALSE</td><td>FALSE</td><td>FALSE</td><td> TRUE</td><td>FALSE</td></tr>\n",
       "\t<tr><th scope=row>7</th><td>TRUE </td><td>FALSE</td><td> TRUE</td><td>FALSE</td><td> TRUE</td><td> TRUE</td><td>FALSE</td><td> TRUE</td><td> TRUE</td><td>FALSE</td><td> TRUE</td><td>FALSE</td><td>FALSE</td><td>FALSE</td><td> TRUE</td><td>FALSE</td></tr>\n",
       "\t<tr><th scope=row>8</th><td>TRUE </td><td>FALSE</td><td> TRUE</td><td>FALSE</td><td> TRUE</td><td> TRUE</td><td>FALSE</td><td> TRUE</td><td> TRUE</td><td>FALSE</td><td> TRUE</td><td>FALSE</td><td> TRUE</td><td>FALSE</td><td> TRUE</td><td>FALSE</td></tr>\n",
       "\t<tr><th scope=row>9</th><td>TRUE </td><td>FALSE</td><td> TRUE</td><td>FALSE</td><td> TRUE</td><td> TRUE</td><td>FALSE</td><td> TRUE</td><td> TRUE</td><td>FALSE</td><td> TRUE</td><td>FALSE</td><td> TRUE</td><td> TRUE</td><td> TRUE</td><td>FALSE</td></tr>\n",
       "\t<tr><th scope=row>10</th><td>TRUE </td><td>FALSE</td><td> TRUE</td><td>FALSE</td><td> TRUE</td><td> TRUE</td><td>FALSE</td><td> TRUE</td><td> TRUE</td><td>FALSE</td><td> TRUE</td><td> TRUE</td><td> TRUE</td><td> TRUE</td><td> TRUE</td><td>FALSE</td></tr>\n",
       "\t<tr><th scope=row>11</th><td>TRUE </td><td>FALSE</td><td> TRUE</td><td> TRUE</td><td> TRUE</td><td> TRUE</td><td>FALSE</td><td> TRUE</td><td> TRUE</td><td>FALSE</td><td> TRUE</td><td> TRUE</td><td> TRUE</td><td> TRUE</td><td> TRUE</td><td>FALSE</td></tr>\n",
       "\t<tr><th scope=row>12</th><td>TRUE </td><td>FALSE</td><td> TRUE</td><td> TRUE</td><td> TRUE</td><td> TRUE</td><td>FALSE</td><td> TRUE</td><td> TRUE</td><td>FALSE</td><td> TRUE</td><td> TRUE</td><td> TRUE</td><td> TRUE</td><td> TRUE</td><td> TRUE</td></tr>\n",
       "\t<tr><th scope=row>13</th><td>TRUE </td><td> TRUE</td><td> TRUE</td><td> TRUE</td><td> TRUE</td><td> TRUE</td><td>FALSE</td><td> TRUE</td><td> TRUE</td><td>FALSE</td><td> TRUE</td><td> TRUE</td><td> TRUE</td><td> TRUE</td><td> TRUE</td><td> TRUE</td></tr>\n",
       "\t<tr><th scope=row>14</th><td>TRUE </td><td> TRUE</td><td> TRUE</td><td> TRUE</td><td> TRUE</td><td> TRUE</td><td> TRUE</td><td> TRUE</td><td> TRUE</td><td>FALSE</td><td> TRUE</td><td> TRUE</td><td> TRUE</td><td> TRUE</td><td> TRUE</td><td> TRUE</td></tr>\n",
       "\t<tr><th scope=row>15</th><td>TRUE </td><td> TRUE</td><td> TRUE</td><td> TRUE</td><td> TRUE</td><td> TRUE</td><td> TRUE</td><td> TRUE</td><td> TRUE</td><td> TRUE</td><td> TRUE</td><td> TRUE</td><td> TRUE</td><td> TRUE</td><td> TRUE</td><td> TRUE</td></tr>\n",
       "</tbody>\n",
       "</table>\n"
      ],
      "text/latex": [
       "\\begin{tabular}{r|llllllllllllllll}\n",
       "  & (Intercept) & age & weight & height & adipos & free & neck & chest & abdom & hip & thigh & knee & ankle & biceps & forearm & wrist\\\\\n",
       "\\hline\n",
       "\t1 & TRUE  & FALSE & FALSE & FALSE & FALSE & FALSE & FALSE & FALSE &  TRUE & FALSE & FALSE & FALSE & FALSE & FALSE & FALSE & FALSE\\\\\n",
       "\t2 & TRUE  & FALSE &  TRUE & FALSE & FALSE &  TRUE & FALSE & FALSE & FALSE & FALSE & FALSE & FALSE & FALSE & FALSE & FALSE & FALSE\\\\\n",
       "\t3 & TRUE  & FALSE &  TRUE & FALSE & FALSE &  TRUE & FALSE & FALSE & FALSE & FALSE & FALSE & FALSE & FALSE & FALSE &  TRUE & FALSE\\\\\n",
       "\t4 & TRUE  & FALSE &  TRUE & FALSE & FALSE &  TRUE & FALSE & FALSE & FALSE & FALSE & FALSE &  TRUE & FALSE & FALSE &  TRUE & FALSE\\\\\n",
       "\t5 & TRUE  & FALSE &  TRUE & FALSE &  TRUE &  TRUE & FALSE & FALSE &  TRUE & FALSE & FALSE & FALSE & FALSE & FALSE &  TRUE & FALSE\\\\\n",
       "\t6 & TRUE  & FALSE &  TRUE & FALSE &  TRUE &  TRUE & FALSE & FALSE &  TRUE & FALSE &  TRUE & FALSE & FALSE & FALSE &  TRUE & FALSE\\\\\n",
       "\t7 & TRUE  & FALSE &  TRUE & FALSE &  TRUE &  TRUE & FALSE &  TRUE &  TRUE & FALSE &  TRUE & FALSE & FALSE & FALSE &  TRUE & FALSE\\\\\n",
       "\t8 & TRUE  & FALSE &  TRUE & FALSE &  TRUE &  TRUE & FALSE &  TRUE &  TRUE & FALSE &  TRUE & FALSE &  TRUE & FALSE &  TRUE & FALSE\\\\\n",
       "\t9 & TRUE  & FALSE &  TRUE & FALSE &  TRUE &  TRUE & FALSE &  TRUE &  TRUE & FALSE &  TRUE & FALSE &  TRUE &  TRUE &  TRUE & FALSE\\\\\n",
       "\t10 & TRUE  & FALSE &  TRUE & FALSE &  TRUE &  TRUE & FALSE &  TRUE &  TRUE & FALSE &  TRUE &  TRUE &  TRUE &  TRUE &  TRUE & FALSE\\\\\n",
       "\t11 & TRUE  & FALSE &  TRUE &  TRUE &  TRUE &  TRUE & FALSE &  TRUE &  TRUE & FALSE &  TRUE &  TRUE &  TRUE &  TRUE &  TRUE & FALSE\\\\\n",
       "\t12 & TRUE  & FALSE &  TRUE &  TRUE &  TRUE &  TRUE & FALSE &  TRUE &  TRUE & FALSE &  TRUE &  TRUE &  TRUE &  TRUE &  TRUE &  TRUE\\\\\n",
       "\t13 & TRUE  &  TRUE &  TRUE &  TRUE &  TRUE &  TRUE & FALSE &  TRUE &  TRUE & FALSE &  TRUE &  TRUE &  TRUE &  TRUE &  TRUE &  TRUE\\\\\n",
       "\t14 & TRUE  &  TRUE &  TRUE &  TRUE &  TRUE &  TRUE &  TRUE &  TRUE &  TRUE & FALSE &  TRUE &  TRUE &  TRUE &  TRUE &  TRUE &  TRUE\\\\\n",
       "\t15 & TRUE  &  TRUE &  TRUE &  TRUE &  TRUE &  TRUE &  TRUE &  TRUE &  TRUE &  TRUE &  TRUE &  TRUE &  TRUE &  TRUE &  TRUE &  TRUE\\\\\n",
       "\\end{tabular}\n"
      ],
      "text/markdown": [
       "\n",
       "| <!--/--> | (Intercept) | age | weight | height | adipos | free | neck | chest | abdom | hip | thigh | knee | ankle | biceps | forearm | wrist | \n",
       "|---|---|---|---|---|---|---|---|---|---|---|---|---|---|---|\n",
       "| 1 | TRUE  | FALSE | FALSE | FALSE | FALSE | FALSE | FALSE | FALSE |  TRUE | FALSE | FALSE | FALSE | FALSE | FALSE | FALSE | FALSE | \n",
       "| 2 | TRUE  | FALSE |  TRUE | FALSE | FALSE |  TRUE | FALSE | FALSE | FALSE | FALSE | FALSE | FALSE | FALSE | FALSE | FALSE | FALSE | \n",
       "| 3 | TRUE  | FALSE |  TRUE | FALSE | FALSE |  TRUE | FALSE | FALSE | FALSE | FALSE | FALSE | FALSE | FALSE | FALSE |  TRUE | FALSE | \n",
       "| 4 | TRUE  | FALSE |  TRUE | FALSE | FALSE |  TRUE | FALSE | FALSE | FALSE | FALSE | FALSE |  TRUE | FALSE | FALSE |  TRUE | FALSE | \n",
       "| 5 | TRUE  | FALSE |  TRUE | FALSE |  TRUE |  TRUE | FALSE | FALSE |  TRUE | FALSE | FALSE | FALSE | FALSE | FALSE |  TRUE | FALSE | \n",
       "| 6 | TRUE  | FALSE |  TRUE | FALSE |  TRUE |  TRUE | FALSE | FALSE |  TRUE | FALSE |  TRUE | FALSE | FALSE | FALSE |  TRUE | FALSE | \n",
       "| 7 | TRUE  | FALSE |  TRUE | FALSE |  TRUE |  TRUE | FALSE |  TRUE |  TRUE | FALSE |  TRUE | FALSE | FALSE | FALSE |  TRUE | FALSE | \n",
       "| 8 | TRUE  | FALSE |  TRUE | FALSE |  TRUE |  TRUE | FALSE |  TRUE |  TRUE | FALSE |  TRUE | FALSE |  TRUE | FALSE |  TRUE | FALSE | \n",
       "| 9 | TRUE  | FALSE |  TRUE | FALSE |  TRUE |  TRUE | FALSE |  TRUE |  TRUE | FALSE |  TRUE | FALSE |  TRUE |  TRUE |  TRUE | FALSE | \n",
       "| 10 | TRUE  | FALSE |  TRUE | FALSE |  TRUE |  TRUE | FALSE |  TRUE |  TRUE | FALSE |  TRUE |  TRUE |  TRUE |  TRUE |  TRUE | FALSE | \n",
       "| 11 | TRUE  | FALSE |  TRUE |  TRUE |  TRUE |  TRUE | FALSE |  TRUE |  TRUE | FALSE |  TRUE |  TRUE |  TRUE |  TRUE |  TRUE | FALSE | \n",
       "| 12 | TRUE  | FALSE |  TRUE |  TRUE |  TRUE |  TRUE | FALSE |  TRUE |  TRUE | FALSE |  TRUE |  TRUE |  TRUE |  TRUE |  TRUE |  TRUE | \n",
       "| 13 | TRUE  |  TRUE |  TRUE |  TRUE |  TRUE |  TRUE | FALSE |  TRUE |  TRUE | FALSE |  TRUE |  TRUE |  TRUE |  TRUE |  TRUE |  TRUE | \n",
       "| 14 | TRUE  |  TRUE |  TRUE |  TRUE |  TRUE |  TRUE |  TRUE |  TRUE |  TRUE | FALSE |  TRUE |  TRUE |  TRUE |  TRUE |  TRUE |  TRUE | \n",
       "| 15 | TRUE  |  TRUE |  TRUE |  TRUE |  TRUE |  TRUE |  TRUE |  TRUE |  TRUE |  TRUE |  TRUE |  TRUE |  TRUE |  TRUE |  TRUE |  TRUE | \n",
       "\n",
       "\n"
      ],
      "text/plain": [
       "   (Intercept) age   weight height adipos free  neck  chest abdom hip   thigh\n",
       "1  TRUE        FALSE FALSE  FALSE  FALSE  FALSE FALSE FALSE  TRUE FALSE FALSE\n",
       "2  TRUE        FALSE  TRUE  FALSE  FALSE   TRUE FALSE FALSE FALSE FALSE FALSE\n",
       "3  TRUE        FALSE  TRUE  FALSE  FALSE   TRUE FALSE FALSE FALSE FALSE FALSE\n",
       "4  TRUE        FALSE  TRUE  FALSE  FALSE   TRUE FALSE FALSE FALSE FALSE FALSE\n",
       "5  TRUE        FALSE  TRUE  FALSE   TRUE   TRUE FALSE FALSE  TRUE FALSE FALSE\n",
       "6  TRUE        FALSE  TRUE  FALSE   TRUE   TRUE FALSE FALSE  TRUE FALSE  TRUE\n",
       "7  TRUE        FALSE  TRUE  FALSE   TRUE   TRUE FALSE  TRUE  TRUE FALSE  TRUE\n",
       "8  TRUE        FALSE  TRUE  FALSE   TRUE   TRUE FALSE  TRUE  TRUE FALSE  TRUE\n",
       "9  TRUE        FALSE  TRUE  FALSE   TRUE   TRUE FALSE  TRUE  TRUE FALSE  TRUE\n",
       "10 TRUE        FALSE  TRUE  FALSE   TRUE   TRUE FALSE  TRUE  TRUE FALSE  TRUE\n",
       "11 TRUE        FALSE  TRUE   TRUE   TRUE   TRUE FALSE  TRUE  TRUE FALSE  TRUE\n",
       "12 TRUE        FALSE  TRUE   TRUE   TRUE   TRUE FALSE  TRUE  TRUE FALSE  TRUE\n",
       "13 TRUE         TRUE  TRUE   TRUE   TRUE   TRUE FALSE  TRUE  TRUE FALSE  TRUE\n",
       "14 TRUE         TRUE  TRUE   TRUE   TRUE   TRUE  TRUE  TRUE  TRUE FALSE  TRUE\n",
       "15 TRUE         TRUE  TRUE   TRUE   TRUE   TRUE  TRUE  TRUE  TRUE  TRUE  TRUE\n",
       "   knee  ankle biceps forearm wrist\n",
       "1  FALSE FALSE FALSE  FALSE   FALSE\n",
       "2  FALSE FALSE FALSE  FALSE   FALSE\n",
       "3  FALSE FALSE FALSE   TRUE   FALSE\n",
       "4   TRUE FALSE FALSE   TRUE   FALSE\n",
       "5  FALSE FALSE FALSE   TRUE   FALSE\n",
       "6  FALSE FALSE FALSE   TRUE   FALSE\n",
       "7  FALSE FALSE FALSE   TRUE   FALSE\n",
       "8  FALSE  TRUE FALSE   TRUE   FALSE\n",
       "9  FALSE  TRUE  TRUE   TRUE   FALSE\n",
       "10  TRUE  TRUE  TRUE   TRUE   FALSE\n",
       "11  TRUE  TRUE  TRUE   TRUE   FALSE\n",
       "12  TRUE  TRUE  TRUE   TRUE    TRUE\n",
       "13  TRUE  TRUE  TRUE   TRUE    TRUE\n",
       "14  TRUE  TRUE  TRUE   TRUE    TRUE\n",
       "15  TRUE  TRUE  TRUE   TRUE    TRUE"
      ]
     },
     "metadata": {},
     "output_type": "display_data"
    }
   ],
   "source": [
    "x = regsubsets(siri~ .-density-brozek,data=train,nvmax=ncol(train)-3)\n",
    "x.1 = summary(x)\n",
    "x.1$which"
   ]
  },
  {
   "cell_type": "code",
   "execution_count": 21,
   "metadata": {},
   "outputs": [
    {
     "data": {
      "image/png": "[encoded data removed]",
      "text/plain": [
       "plot without title"
      ]
     },
     "metadata": {},
     "output_type": "display_data"
    }
   ],
   "source": [
    "n = nrow(train)\n",
    "AIC = n*log(x.1$rss/n) + 2*(2:16)\n",
    "plot(AIC ~ I(1:15), xlab = \"number of predictors\", ylab = \"AIC\")"
   ]
  },
  {
   "cell_type": "code",
   "execution_count": 22,
   "metadata": {},
   "outputs": [
    {
     "data": {
      "image/png": "[encoded data removed]",
      "text/plain": [
       "plot without title"
      ]
     },
     "metadata": {},
     "output_type": "display_data"
    }
   ],
   "source": [
    "plot(1:15, x.1$adjr2, xlab = \"number of predictors\", ylab = \"adjusted R-squared\")"
   ]
  },
  {
   "cell_type": "code",
   "execution_count": 25,
   "metadata": {},
   "outputs": [
    {
     "data": {
      "text/html": [
       "10"
      ],
      "text/latex": [
       "10"
      ],
      "text/markdown": [
       "10"
      ],
      "text/plain": [
       "[1] 10"
      ]
     },
     "metadata": {},
     "output_type": "display_data"
    }
   ],
   "source": [
    "a <- which.min(AIC)\n",
    "a"
   ]
  },
  {
   "cell_type": "markdown",
   "metadata": {},
   "source": [
    "#### The optimal number of prdictors is 10"
   ]
  },
  {
   "cell_type": "code",
   "execution_count": 26,
   "metadata": {},
   "outputs": [
    {
     "data": {
      "text/plain": [
       "Importance of components:\n",
       "                         PC1    PC2     PC3     PC4     PC5     PC6     PC7\n",
       "Standard deviation     3.072 1.2415 1.04228 0.82869 0.77340 0.60565 0.57145\n",
       "Proportion of Variance 0.629 0.1028 0.07242 0.04578 0.03988 0.02445 0.02177\n",
       "Cumulative Proportion  0.629 0.7317 0.80414 0.84992 0.88980 0.91425 0.93602\n",
       "                           PC8     PC9    PC10    PC11   PC12    PC13    PC14\n",
       "Standard deviation     0.52205 0.44467 0.42667 0.35774 0.2765 0.21504 0.19703\n",
       "Proportion of Variance 0.01817 0.01318 0.01214 0.00853 0.0051 0.00308 0.00259\n",
       "Cumulative Proportion  0.95419 0.96738 0.97951 0.98804 0.9931 0.99622 0.99881\n",
       "                          PC15\n",
       "Standard deviation     0.13350\n",
       "Proportion of Variance 0.00119\n",
       "Cumulative Proportion  1.00000"
      ]
     },
     "metadata": {},
     "output_type": "display_data"
    }
   ],
   "source": [
    "s <- prcomp(train[, 4:ncol(train)], scale=T)\n",
    "summary(s)"
   ]
  },
  {
   "cell_type": "code",
   "execution_count": 27,
   "metadata": {},
   "outputs": [],
   "source": [
    "lmod <- lm(siri ~ . - brozek-density, data=train)\n",
    "lmod_AIC <- lm(siri ~ . - brozek-density-age-height-neck-hip-wrist, data=train)\n",
    "lmod_PCA <- lm(siri ~ ., data=as.data.frame(cbind(siri=train$siri, s$x)))\n",
    "lmod_ridge <- linearRidge(siri ~., data=train_scaled, lambda=0.1, scaling='scale')"
   ]
  },
  {
   "cell_type": "code",
   "execution_count": 28,
   "metadata": {},
   "outputs": [
    {
     "data": {
      "text/html": [
       "<table>\n",
       "<thead><tr><th scope=col>Model</th><th scope=col>MSE_test_set</th></tr></thead>\n",
       "<tbody>\n",
       "\t<tr><td>PCA              </td><td>1.280357         </td></tr>\n",
       "\t<tr><td>Linear regression</td><td>1.280357         </td></tr>\n",
       "\t<tr><td>AIC              </td><td>1.258928         </td></tr>\n",
       "\t<tr><td>Rigde regression </td><td>1.264545         </td></tr>\n",
       "</tbody>\n",
       "</table>\n"
      ],
      "text/latex": [
       "\\begin{tabular}{r|ll}\n",
       " Model & MSE\\_test\\_set\\\\\n",
       "\\hline\n",
       "\t PCA               & 1.280357         \\\\\n",
       "\t Linear regression & 1.280357         \\\\\n",
       "\t AIC               & 1.258928         \\\\\n",
       "\t Rigde regression  & 1.264545         \\\\\n",
       "\\end{tabular}\n"
      ],
      "text/markdown": [
       "\n",
       "Model | MSE_test_set | \n",
       "|---|---|---|---|\n",
       "| PCA               | 1.280357          | \n",
       "| Linear regression | 1.280357          | \n",
       "| AIC               | 1.258928          | \n",
       "| Rigde regression  | 1.264545          | \n",
       "\n",
       "\n"
      ],
      "text/plain": [
       "  Model             MSE_test_set\n",
       "1 PCA               1.280357    \n",
       "2 Linear regression 1.280357    \n",
       "3 AIC               1.258928    \n",
       "4 Rigde regression  1.264545    "
      ]
     },
     "metadata": {},
     "output_type": "display_data"
    }
   ],
   "source": [
    "PC_test <- scale(X_test, s$center, s$scale) %*% s$rotation \n",
    "s_test <- as.data.frame(cbind(siri=y_test, PC_test))\n",
    "y_pred_PCA <- predict(lmod_PCA, s_test)\n",
    "y_pred_lm <- predict(lmod, test)\n",
    "y_pred_lmAIC <- predict(lmod_AIC, test)\n",
    "y_pred_ridge <- predict(lmod_ridge, test_scaled)\n",
    "mse_PCA <- mean((y_test-y_pred_PCA)^2) \n",
    "mse_lm <- mean((y_test-y_pred_lm)^2)\n",
    "mse_lmAIC <- mean((y_test-y_pred_lmAIC)^2)\n",
    "mse_ridge <- mean((y_test-((y_pred_ridge*sd(y_train))+mean(y_train)))^2)\n",
    "report <- data.frame(Model=c('PCA', 'Linear regression', 'AIC', 'Rigde regression'), \n",
    "                     MSE_test_set=c(mse_PCA, mse_lm, mse_lmAIC, mse_ridge))\n",
    "report"
   ]
  },
  {
   "cell_type": "markdown",
   "metadata": {},
   "source": [
    "### Problem B.4\n",
    "\n",
    "Use the peatpos data with hipcenter as the response.\n",
    "\n",
    "#### (a) Fit a model with all eight predictors. Comment on the effect of leg length on the response. "
   ]
  },
  {
   "cell_type": "code",
   "execution_count": 39,
   "metadata": {},
   "outputs": [],
   "source": [
    "data(seatpos)"
   ]
  },
  {
   "cell_type": "code",
   "execution_count": 40,
   "metadata": {},
   "outputs": [
    {
     "data": {
      "text/plain": [
       "\n",
       "Call:\n",
       "lm(formula = seatpos$hipcenter ~ ., data = seatpos)\n",
       "\n",
       "Residuals:\n",
       "    Min      1Q  Median      3Q     Max \n",
       "-73.827 -22.833  -3.678  25.017  62.337 \n",
       "\n",
       "Coefficients:\n",
       "             Estimate Std. Error t value Pr(>|t|)  \n",
       "(Intercept) 436.43213  166.57162   2.620   0.0138 *\n",
       "Age           0.77572    0.57033   1.360   0.1843  \n",
       "Weight        0.02631    0.33097   0.080   0.9372  \n",
       "HtShoes      -2.69241    9.75304  -0.276   0.7845  \n",
       "Ht            0.60134   10.12987   0.059   0.9531  \n",
       "Seated        0.53375    3.76189   0.142   0.8882  \n",
       "Arm          -1.32807    3.90020  -0.341   0.7359  \n",
       "Thigh        -1.14312    2.66002  -0.430   0.6706  \n",
       "Leg          -6.43905    4.71386  -1.366   0.1824  \n",
       "---\n",
       "Signif. codes:  0 '***' 0.001 '**' 0.01 '*' 0.05 '.' 0.1 ' ' 1\n",
       "\n",
       "Residual standard error: 37.72 on 29 degrees of freedom\n",
       "Multiple R-squared:  0.6866,\tAdjusted R-squared:  0.6001 \n",
       "F-statistic:  7.94 on 8 and 29 DF,  p-value: 1.306e-05\n"
      ]
     },
     "metadata": {},
     "output_type": "display_data"
    }
   ],
   "source": [
    "lmod.seat<-lm(seatpos$hipcenter~.,data=seatpos)\n",
    "summary(lmod.seat)"
   ]
  },
  {
   "cell_type": "markdown",
   "metadata": {},
   "source": [
    "#### Based on the regression output shown above, leg is not a significant factor and it has a negative impact on the prediction. "
   ]
  },
  {
   "cell_type": "markdown",
   "metadata": {},
   "source": [
    "#### (b) Compute a 95% prediction interval for the response at the mean value of the predictors. "
   ]
  },
  {
   "cell_type": "code",
   "execution_count": 41,
   "metadata": {},
   "outputs": [
    {
     "data": {
      "text/html": [
       "<table>\n",
       "<thead><tr><th></th><th scope=col>fit</th><th scope=col>lwr</th><th scope=col>upr</th></tr></thead>\n",
       "<tbody>\n",
       "\t<tr><th scope=row>1</th><td>-164.8849</td><td>-243.04  </td><td>-86.72972</td></tr>\n",
       "</tbody>\n",
       "</table>\n"
      ],
      "text/latex": [
       "\\begin{tabular}{r|lll}\n",
       "  & fit & lwr & upr\\\\\n",
       "\\hline\n",
       "\t1 & -164.8849 & -243.04   & -86.72972\\\\\n",
       "\\end{tabular}\n"
      ],
      "text/markdown": [
       "\n",
       "| <!--/--> | fit | lwr | upr | \n",
       "|---|\n",
       "| 1 | -164.8849 | -243.04   | -86.72972 | \n",
       "\n",
       "\n"
      ],
      "text/plain": [
       "  fit       lwr     upr      \n",
       "1 -164.8849 -243.04 -86.72972"
      ]
     },
     "metadata": {},
     "output_type": "display_data"
    }
   ],
   "source": [
    "newdata<-data.frame(\"Weight\"=mean(seatpos$Weight),\"Age\"=mean(seatpos$Age),\"HtShoes\"=mean(seatpos$HtShoes),\"Ht\"=mean(seatpos$Ht),\"Seated\"=mean(seatpos$Seated),\"Arm\"=mean(seatpos$Arm),\"Thigh\"=mean(seatpos$Thigh),\"Leg\"=mean(seatpos$Leg))\n",
    "predict(lmod.seat, newdata = newdata, interval = 'prediction')"
   ]
  },
  {
   "cell_type": "markdown",
   "metadata": {},
   "source": [
    "#### (c) Use AIC to select a model. Now interpret the effect of leg length and compute the prediction interval. Compare the conclusions from the two models. "
   ]
  },
  {
   "cell_type": "code",
   "execution_count": 42,
   "metadata": {},
   "outputs": [
    {
     "data": {
      "text/html": [
       "<table>\n",
       "<thead><tr><th></th><th scope=col>(Intercept)</th><th scope=col>Age</th><th scope=col>Weight</th><th scope=col>HtShoes</th><th scope=col>Ht</th><th scope=col>Seated</th><th scope=col>Arm</th><th scope=col>Thigh</th><th scope=col>Leg</th></tr></thead>\n",
       "<tbody>\n",
       "\t<tr><th scope=row>1</th><td>TRUE </td><td>FALSE</td><td>FALSE</td><td>FALSE</td><td> TRUE</td><td>FALSE</td><td>FALSE</td><td>FALSE</td><td>FALSE</td></tr>\n",
       "\t<tr><th scope=row>2</th><td>TRUE </td><td>FALSE</td><td>FALSE</td><td>FALSE</td><td> TRUE</td><td>FALSE</td><td>FALSE</td><td>FALSE</td><td> TRUE</td></tr>\n",
       "\t<tr><th scope=row>3</th><td>TRUE </td><td> TRUE</td><td>FALSE</td><td>FALSE</td><td> TRUE</td><td>FALSE</td><td>FALSE</td><td>FALSE</td><td> TRUE</td></tr>\n",
       "\t<tr><th scope=row>4</th><td>TRUE </td><td> TRUE</td><td>FALSE</td><td> TRUE</td><td>FALSE</td><td>FALSE</td><td>FALSE</td><td> TRUE</td><td> TRUE</td></tr>\n",
       "\t<tr><th scope=row>5</th><td>TRUE </td><td> TRUE</td><td>FALSE</td><td> TRUE</td><td>FALSE</td><td>FALSE</td><td> TRUE</td><td> TRUE</td><td> TRUE</td></tr>\n",
       "\t<tr><th scope=row>6</th><td>TRUE </td><td> TRUE</td><td>FALSE</td><td> TRUE</td><td>FALSE</td><td> TRUE</td><td> TRUE</td><td> TRUE</td><td> TRUE</td></tr>\n",
       "\t<tr><th scope=row>7</th><td>TRUE </td><td> TRUE</td><td> TRUE</td><td> TRUE</td><td>FALSE</td><td> TRUE</td><td> TRUE</td><td> TRUE</td><td> TRUE</td></tr>\n",
       "\t<tr><th scope=row>8</th><td>TRUE </td><td> TRUE</td><td> TRUE</td><td> TRUE</td><td> TRUE</td><td> TRUE</td><td> TRUE</td><td> TRUE</td><td> TRUE</td></tr>\n",
       "</tbody>\n",
       "</table>\n"
      ],
      "text/latex": [
       "\\begin{tabular}{r|lllllllll}\n",
       "  & (Intercept) & Age & Weight & HtShoes & Ht & Seated & Arm & Thigh & Leg\\\\\n",
       "\\hline\n",
       "\t1 & TRUE  & FALSE & FALSE & FALSE &  TRUE & FALSE & FALSE & FALSE & FALSE\\\\\n",
       "\t2 & TRUE  & FALSE & FALSE & FALSE &  TRUE & FALSE & FALSE & FALSE &  TRUE\\\\\n",
       "\t3 & TRUE  &  TRUE & FALSE & FALSE &  TRUE & FALSE & FALSE & FALSE &  TRUE\\\\\n",
       "\t4 & TRUE  &  TRUE & FALSE &  TRUE & FALSE & FALSE & FALSE &  TRUE &  TRUE\\\\\n",
       "\t5 & TRUE  &  TRUE & FALSE &  TRUE & FALSE & FALSE &  TRUE &  TRUE &  TRUE\\\\\n",
       "\t6 & TRUE  &  TRUE & FALSE &  TRUE & FALSE &  TRUE &  TRUE &  TRUE &  TRUE\\\\\n",
       "\t7 & TRUE  &  TRUE &  TRUE &  TRUE & FALSE &  TRUE &  TRUE &  TRUE &  TRUE\\\\\n",
       "\t8 & TRUE  &  TRUE &  TRUE &  TRUE &  TRUE &  TRUE &  TRUE &  TRUE &  TRUE\\\\\n",
       "\\end{tabular}\n"
      ],
      "text/markdown": [
       "\n",
       "| <!--/--> | (Intercept) | Age | Weight | HtShoes | Ht | Seated | Arm | Thigh | Leg | \n",
       "|---|---|---|---|---|---|---|---|\n",
       "| 1 | TRUE  | FALSE | FALSE | FALSE |  TRUE | FALSE | FALSE | FALSE | FALSE | \n",
       "| 2 | TRUE  | FALSE | FALSE | FALSE |  TRUE | FALSE | FALSE | FALSE |  TRUE | \n",
       "| 3 | TRUE  |  TRUE | FALSE | FALSE |  TRUE | FALSE | FALSE | FALSE |  TRUE | \n",
       "| 4 | TRUE  |  TRUE | FALSE |  TRUE | FALSE | FALSE | FALSE |  TRUE |  TRUE | \n",
       "| 5 | TRUE  |  TRUE | FALSE |  TRUE | FALSE | FALSE |  TRUE |  TRUE |  TRUE | \n",
       "| 6 | TRUE  |  TRUE | FALSE |  TRUE | FALSE |  TRUE |  TRUE |  TRUE |  TRUE | \n",
       "| 7 | TRUE  |  TRUE |  TRUE |  TRUE | FALSE |  TRUE |  TRUE |  TRUE |  TRUE | \n",
       "| 8 | TRUE  |  TRUE |  TRUE |  TRUE |  TRUE |  TRUE |  TRUE |  TRUE |  TRUE | \n",
       "\n",
       "\n"
      ],
      "text/plain": [
       "  (Intercept) Age   Weight HtShoes Ht    Seated Arm   Thigh Leg  \n",
       "1 TRUE        FALSE FALSE  FALSE    TRUE FALSE  FALSE FALSE FALSE\n",
       "2 TRUE        FALSE FALSE  FALSE    TRUE FALSE  FALSE FALSE  TRUE\n",
       "3 TRUE         TRUE FALSE  FALSE    TRUE FALSE  FALSE FALSE  TRUE\n",
       "4 TRUE         TRUE FALSE   TRUE   FALSE FALSE  FALSE  TRUE  TRUE\n",
       "5 TRUE         TRUE FALSE   TRUE   FALSE FALSE   TRUE  TRUE  TRUE\n",
       "6 TRUE         TRUE FALSE   TRUE   FALSE  TRUE   TRUE  TRUE  TRUE\n",
       "7 TRUE         TRUE  TRUE   TRUE   FALSE  TRUE   TRUE  TRUE  TRUE\n",
       "8 TRUE         TRUE  TRUE   TRUE    TRUE  TRUE   TRUE  TRUE  TRUE"
      ]
     },
     "metadata": {},
     "output_type": "display_data"
    }
   ],
   "source": [
    "lmod.reg = regsubsets(hipcenter ~ .,data=seatpos,nvmax=ncol(seatpos)-1)\n",
    "rs = summary(lmod.reg)\n",
    "rs$which"
   ]
  },
  {
   "cell_type": "code",
   "execution_count": 43,
   "metadata": {},
   "outputs": [
    {
     "data": {
      "image/png": "[encoded data removed]",
      "text/plain": [
       "plot without title"
      ]
     },
     "metadata": {},
     "output_type": "display_data"
    }
   ],
   "source": [
    "n = nrow(seatpos)\n",
    "AIC = n*log(rs$rss/n) + 2*(1:8)\n",
    "plot(AIC ~ I(1:8), xlab = \"number of predictors\", ylab = \"AIC\")"
   ]
  },
  {
   "cell_type": "code",
   "execution_count": 44,
   "metadata": {},
   "outputs": [
    {
     "data": {
      "image/png": "[encoded data removed]",
      "text/plain": [
       "plot without title"
      ]
     },
     "metadata": {},
     "output_type": "display_data"
    }
   ],
   "source": [
    "plot(1:8, rs$adjr2, xlab = \"number of predictors\", ylab = \"adjusted R-squared\")"
   ]
  },
  {
   "cell_type": "code",
   "execution_count": 45,
   "metadata": {},
   "outputs": [
    {
     "data": {
      "text/html": [
       "3"
      ],
      "text/latex": [
       "3"
      ],
      "text/markdown": [
       "3"
      ],
      "text/plain": [
       "[1] 3"
      ]
     },
     "metadata": {},
     "output_type": "display_data"
    }
   ],
   "source": [
    "a<-which.min(AIC)\n",
    "a"
   ]
  },
  {
   "cell_type": "markdown",
   "metadata": {},
   "source": [
    "#### The best number of predictors are 3 "
   ]
  },
  {
   "cell_type": "code",
   "execution_count": 46,
   "metadata": {},
   "outputs": [
    {
     "data": {
      "text/plain": [
       "\n",
       "Call:\n",
       "lm(formula = hipcenter ~ Age + Ht + Leg, data = seatpos)\n",
       "\n",
       "Residuals:\n",
       "    Min      1Q  Median      3Q     Max \n",
       "-79.715 -22.758  -4.102  21.394  60.576 \n",
       "\n",
       "Coefficients:\n",
       "            Estimate Std. Error t value Pr(>|t|)    \n",
       "(Intercept) 452.1976   100.9482   4.480 8.04e-05 ***\n",
       "Age           0.5807     0.3790   1.532   0.1347    \n",
       "Ht           -2.3254     1.2545  -1.854   0.0725 .  \n",
       "Leg          -6.7390     4.1050  -1.642   0.1099    \n",
       "---\n",
       "Signif. codes:  0 '***' 0.001 '**' 0.01 '*' 0.05 '.' 0.1 ' ' 1\n",
       "\n",
       "Residual standard error: 35.12 on 34 degrees of freedom\n",
       "Multiple R-squared:  0.6814,\tAdjusted R-squared:  0.6533 \n",
       "F-statistic: 24.24 on 3 and 34 DF,  p-value: 1.426e-08\n"
      ]
     },
     "metadata": {},
     "output_type": "display_data"
    }
   ],
   "source": [
    "lmod <- lm(hipcenter ~ Age + Ht + Leg, data=seatpos)\n",
    "summary(lmod)"
   ]
  },
  {
   "cell_type": "markdown",
   "metadata": {},
   "source": [
    "#### We can consider the above model as good as now we can see that the predictor leg is more significant now. "
   ]
  },
  {
   "cell_type": "code",
   "execution_count": 48,
   "metadata": {},
   "outputs": [
    {
     "data": {
      "text/html": [
       "<table>\n",
       "<thead><tr><th></th><th scope=col>fit</th><th scope=col>lwr</th><th scope=col>upr</th></tr></thead>\n",
       "<tbody>\n",
       "\t<tr><th scope=row>1</th><td>-164.8849</td><td>-237.192 </td><td>-92.57771</td></tr>\n",
       "</tbody>\n",
       "</table>\n"
      ],
      "text/latex": [
       "\\begin{tabular}{r|lll}\n",
       "  & fit & lwr & upr\\\\\n",
       "\\hline\n",
       "\t1 & -164.8849 & -237.192  & -92.57771\\\\\n",
       "\\end{tabular}\n"
      ],
      "text/markdown": [
       "\n",
       "| <!--/--> | fit | lwr | upr | \n",
       "|---|\n",
       "| 1 | -164.8849 | -237.192  | -92.57771 | \n",
       "\n",
       "\n"
      ],
      "text/plain": [
       "  fit       lwr      upr      \n",
       "1 -164.8849 -237.192 -92.57771"
      ]
     },
     "metadata": {},
     "output_type": "display_data"
    }
   ],
   "source": [
    "data<-data.frame(\"Age\"=mean(seatpos$Age),\"Ht\"=mean(seatpos$Ht),\"Leg\"=mean(seatpos$Leg))\n",
    "predict(lmod, newdata=data, interval=\"prediction\", level=0.95)"
   ]
  },
  {
   "cell_type": "markdown",
   "metadata": {},
   "source": [
    "#### We can now conclude that AIC signifies that leg is important in the model."
   ]
  },
  {
   "cell_type": "markdown",
   "metadata": {},
   "source": [
    "### Problem B.5\n",
    "\n",
    "#### Use the teengamb data with gamble as the response and the other variables as predictors. Implement the following variable selection methods to determine the \"best\" model:\n",
    "\n",
    "1. Backward Elimination\n",
    "2. AIC\n",
    "3. Adjusted $R^2$."
   ]
  },
  {
   "cell_type": "code",
   "execution_count": 29,
   "metadata": {},
   "outputs": [],
   "source": [
    "data(teengamb)"
   ]
  },
  {
   "cell_type": "code",
   "execution_count": 30,
   "metadata": {},
   "outputs": [
    {
     "data": {
      "text/plain": [
       "\n",
       "Call:\n",
       "lm(formula = gamble ~ ., data = teengamb)\n",
       "\n",
       "Residuals:\n",
       "    Min      1Q  Median      3Q     Max \n",
       "-51.082 -11.320  -1.451   9.452  94.252 \n",
       "\n",
       "Coefficients:\n",
       "             Estimate Std. Error t value Pr(>|t|)    \n",
       "(Intercept)  22.55565   17.19680   1.312   0.1968    \n",
       "sex         -22.11833    8.21111  -2.694   0.0101 *  \n",
       "status        0.05223    0.28111   0.186   0.8535    \n",
       "income        4.96198    1.02539   4.839 1.79e-05 ***\n",
       "verbal       -2.95949    2.17215  -1.362   0.1803    \n",
       "---\n",
       "Signif. codes:  0 '***' 0.001 '**' 0.01 '*' 0.05 '.' 0.1 ' ' 1\n",
       "\n",
       "Residual standard error: 22.69 on 42 degrees of freedom\n",
       "Multiple R-squared:  0.5267,\tAdjusted R-squared:  0.4816 \n",
       "F-statistic: 11.69 on 4 and 42 DF,  p-value: 1.815e-06\n"
      ]
     },
     "metadata": {},
     "output_type": "display_data"
    }
   ],
   "source": [
    "lmod.gamb<-lm(gamble~.,data=teengamb)\n",
    "summary(lmod.gamb)"
   ]
  },
  {
   "cell_type": "markdown",
   "metadata": {},
   "source": [
    "# Backward elimination"
   ]
  },
  {
   "cell_type": "code",
   "execution_count": 31,
   "metadata": {},
   "outputs": [
    {
     "data": {
      "text/plain": [
       "\n",
       "Call:\n",
       "lm(formula = gamble ~ sex + income + verbal, data = teengamb)\n",
       "\n",
       "Residuals:\n",
       "    Min      1Q  Median      3Q     Max \n",
       "-50.639 -11.765  -1.594   9.305  93.867 \n",
       "\n",
       "Coefficients:\n",
       "            Estimate Std. Error t value Pr(>|t|)    \n",
       "(Intercept)  24.1390    14.7686   1.634   0.1095    \n",
       "sex         -22.9602     6.7706  -3.391   0.0015 ** \n",
       "income        4.8981     0.9551   5.128 6.64e-06 ***\n",
       "verbal       -2.7468     1.8253  -1.505   0.1397    \n",
       "---\n",
       "Signif. codes:  0 '***' 0.001 '**' 0.01 '*' 0.05 '.' 0.1 ' ' 1\n",
       "\n",
       "Residual standard error: 22.43 on 43 degrees of freedom\n",
       "Multiple R-squared:  0.5263,\tAdjusted R-squared:  0.4933 \n",
       "F-statistic: 15.93 on 3 and 43 DF,  p-value: 4.148e-07\n"
      ]
     },
     "metadata": {},
     "output_type": "display_data"
    }
   ],
   "source": [
    "lmod.gamb = update(lmod.gamb, . ~ . - status)\n",
    "summary(lmod.gamb)"
   ]
  },
  {
   "cell_type": "markdown",
   "metadata": {},
   "source": [
    "# Best model (After Backward Elimination)"
   ]
  },
  {
   "cell_type": "code",
   "execution_count": 32,
   "metadata": {},
   "outputs": [
    {
     "data": {
      "text/plain": [
       "\n",
       "Call:\n",
       "lm(formula = gamble ~ sex + income, data = teengamb)\n",
       "\n",
       "Residuals:\n",
       "    Min      1Q  Median      3Q     Max \n",
       "-49.757 -11.649   0.844   8.659 100.243 \n",
       "\n",
       "Coefficients:\n",
       "            Estimate Std. Error t value Pr(>|t|)    \n",
       "(Intercept)    4.041      6.394   0.632  0.53070    \n",
       "sex          -21.634      6.809  -3.177  0.00272 ** \n",
       "income         5.172      0.951   5.438 2.24e-06 ***\n",
       "---\n",
       "Signif. codes:  0 '***' 0.001 '**' 0.01 '*' 0.05 '.' 0.1 ' ' 1\n",
       "\n",
       "Residual standard error: 22.75 on 44 degrees of freedom\n",
       "Multiple R-squared:  0.5014,\tAdjusted R-squared:  0.4787 \n",
       "F-statistic: 22.12 on 2 and 44 DF,  p-value: 2.243e-07\n"
      ]
     },
     "metadata": {},
     "output_type": "display_data"
    }
   ],
   "source": [
    "lmod.gamb = update(lmod.gamb, . ~ . - verbal)\n",
    "summary(lmod.gamb)"
   ]
  },
  {
   "cell_type": "markdown",
   "metadata": {},
   "source": [
    "# AIC"
   ]
  },
  {
   "cell_type": "code",
   "execution_count": 33,
   "metadata": {},
   "outputs": [
    {
     "data": {
      "text/html": [
       "<table>\n",
       "<thead><tr><th></th><th scope=col>(Intercept)</th><th scope=col>sex</th><th scope=col>status</th><th scope=col>income</th><th scope=col>verbal</th></tr></thead>\n",
       "<tbody>\n",
       "\t<tr><th scope=row>1</th><td>TRUE </td><td>FALSE</td><td>FALSE</td><td>TRUE </td><td>FALSE</td></tr>\n",
       "\t<tr><th scope=row>2</th><td>TRUE </td><td> TRUE</td><td>FALSE</td><td>TRUE </td><td>FALSE</td></tr>\n",
       "\t<tr><th scope=row>3</th><td>TRUE </td><td> TRUE</td><td>FALSE</td><td>TRUE </td><td> TRUE</td></tr>\n",
       "\t<tr><th scope=row>4</th><td>TRUE </td><td> TRUE</td><td> TRUE</td><td>TRUE </td><td> TRUE</td></tr>\n",
       "</tbody>\n",
       "</table>\n"
      ],
      "text/latex": [
       "\\begin{tabular}{r|lllll}\n",
       "  & (Intercept) & sex & status & income & verbal\\\\\n",
       "\\hline\n",
       "\t1 & TRUE  & FALSE & FALSE & TRUE  & FALSE\\\\\n",
       "\t2 & TRUE  &  TRUE & FALSE & TRUE  & FALSE\\\\\n",
       "\t3 & TRUE  &  TRUE & FALSE & TRUE  &  TRUE\\\\\n",
       "\t4 & TRUE  &  TRUE &  TRUE & TRUE  &  TRUE\\\\\n",
       "\\end{tabular}\n"
      ],
      "text/markdown": [
       "\n",
       "| <!--/--> | (Intercept) | sex | status | income | verbal | \n",
       "|---|---|---|---|\n",
       "| 1 | TRUE  | FALSE | FALSE | TRUE  | FALSE | \n",
       "| 2 | TRUE  |  TRUE | FALSE | TRUE  | FALSE | \n",
       "| 3 | TRUE  |  TRUE | FALSE | TRUE  |  TRUE | \n",
       "| 4 | TRUE  |  TRUE |  TRUE | TRUE  |  TRUE | \n",
       "\n",
       "\n"
      ],
      "text/plain": [
       "  (Intercept) sex   status income verbal\n",
       "1 TRUE        FALSE FALSE  TRUE   FALSE \n",
       "2 TRUE         TRUE FALSE  TRUE   FALSE \n",
       "3 TRUE         TRUE FALSE  TRUE    TRUE \n",
       "4 TRUE         TRUE  TRUE  TRUE    TRUE "
      ]
     },
     "metadata": {},
     "output_type": "display_data"
    }
   ],
   "source": [
    "lmod.reg = regsubsets(gamble ~ .,data=teengamb,nvmax=ncol(teengamb)-1)\n",
    "rs = summary(lmod.reg)\n",
    "rs$which"
   ]
  },
  {
   "cell_type": "code",
   "execution_count": 34,
   "metadata": {},
   "outputs": [
    {
     "data": {
      "image/png": "[encoded data removed]",
      "text/plain": [
       "plot without title"
      ]
     },
     "metadata": {},
     "output_type": "display_data"
    }
   ],
   "source": [
    "n = nrow(teengamb)\n",
    "AIC = n*log(rs$rss/n) + 2*(1:4)\n",
    "plot(AIC ~ I(1:4), xlab = \"number of predictors\", ylab = \"AIC\")"
   ]
  },
  {
   "cell_type": "code",
   "execution_count": 35,
   "metadata": {},
   "outputs": [
    {
     "data": {
      "image/png": "[encoded data removed]",
      "text/plain": [
       "plot without title"
      ]
     },
     "metadata": {},
     "output_type": "display_data"
    }
   ],
   "source": [
    "plot(1:4, rs$adjr2, xlab = \"number of predictors\", ylab = \"adjusted R-squared\")"
   ]
  },
  {
   "cell_type": "code",
   "execution_count": 36,
   "metadata": {},
   "outputs": [
    {
     "data": {
      "text/html": [
       "3"
      ],
      "text/latex": [
       "3"
      ],
      "text/markdown": [
       "3"
      ],
      "text/plain": [
       "[1] 3"
      ]
     },
     "metadata": {},
     "output_type": "display_data"
    }
   ],
   "source": [
    "a<-which.min(AIC)\n",
    "a"
   ]
  },
  {
   "cell_type": "markdown",
   "metadata": {},
   "source": [
    "#### After performing the AIC analysis, we can conclude that the best model is the model which contains the following predictors (sex, income and verbal)"
   ]
  },
  {
   "cell_type": "code",
   "execution_count": 37,
   "metadata": {},
   "outputs": [
    {
     "data": {
      "text/plain": [
       "\n",
       "Call:\n",
       "lm(formula = gamble ~ . - status, data = teengamb)\n",
       "\n",
       "Residuals:\n",
       "    Min      1Q  Median      3Q     Max \n",
       "-50.639 -11.765  -1.594   9.305  93.867 \n",
       "\n",
       "Coefficients:\n",
       "            Estimate Std. Error t value Pr(>|t|)    \n",
       "(Intercept)  24.1390    14.7686   1.634   0.1095    \n",
       "sex         -22.9602     6.7706  -3.391   0.0015 ** \n",
       "income        4.8981     0.9551   5.128 6.64e-06 ***\n",
       "verbal       -2.7468     1.8253  -1.505   0.1397    \n",
       "---\n",
       "Signif. codes:  0 '***' 0.001 '**' 0.01 '*' 0.05 '.' 0.1 ' ' 1\n",
       "\n",
       "Residual standard error: 22.43 on 43 degrees of freedom\n",
       "Multiple R-squared:  0.5263,\tAdjusted R-squared:  0.4933 \n",
       "F-statistic: 15.93 on 3 and 43 DF,  p-value: 4.148e-07\n"
      ]
     },
     "metadata": {},
     "output_type": "display_data"
    }
   ],
   "source": [
    "lmod <- lm(gamble ~ .-status, data=teengamb)\n",
    "summary(lmod)"
   ]
  },
  {
   "cell_type": "markdown",
   "metadata": {},
   "source": [
    "# R-squared value"
   ]
  },
  {
   "cell_type": "code",
   "execution_count": 38,
   "metadata": {},
   "outputs": [
    {
     "data": {
      "text/plain": [
       "\n",
       "Call:\n",
       "lm(formula = gamble ~ sex + income + verbal, data = teengamb)\n",
       "\n",
       "Residuals:\n",
       "    Min      1Q  Median      3Q     Max \n",
       "-50.639 -11.765  -1.594   9.305  93.867 \n",
       "\n",
       "Coefficients:\n",
       "            Estimate Std. Error t value Pr(>|t|)    \n",
       "(Intercept)  24.1390    14.7686   1.634   0.1095    \n",
       "sex         -22.9602     6.7706  -3.391   0.0015 ** \n",
       "income        4.8981     0.9551   5.128 6.64e-06 ***\n",
       "verbal       -2.7468     1.8253  -1.505   0.1397    \n",
       "---\n",
       "Signif. codes:  0 '***' 0.001 '**' 0.01 '*' 0.05 '.' 0.1 ' ' 1\n",
       "\n",
       "Residual standard error: 22.43 on 43 degrees of freedom\n",
       "Multiple R-squared:  0.5263,\tAdjusted R-squared:  0.4933 \n",
       "F-statistic: 15.93 on 3 and 43 DF,  p-value: 4.148e-07\n"
      ]
     },
     "metadata": {},
     "output_type": "display_data"
    }
   ],
   "source": [
    "summary(lm(gamble ~ sex+income+verbal, data=teengamb))"
   ]
  },
  {
   "cell_type": "markdown",
   "metadata": {},
   "source": [
    "#### As shown above in the adjusted R-square plot, good number of predictors will be 3. "
   ]
  },
  {
   "cell_type": "code",
   "execution_count": null,
   "metadata": {},
   "outputs": [],
   "source": []
  }
 ],
 "metadata": {
  "kernelspec": {
   "display_name": "R",
   "language": "R",
   "name": "ir"
  },
  "language_info": {
   "codemirror_mode": "r",
   "file_extension": ".r",
   "mimetype": "text/x-r-source",
   "name": "R",
   "pygments_lexer": "r",
   "version": "3.5.1"
  }
 },
 "nbformat": 4,
 "nbformat_minor": 2
}
