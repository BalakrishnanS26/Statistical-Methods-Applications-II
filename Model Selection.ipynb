{
 "cells": [
  {
   "cell_type": "markdown",
   "metadata": {},
   "source": [
    "# Model Selection\n",
    "\n",
    "## Problem #1\n",
    "\n",
    "The real estate data is a record of variables measured about homes.\n",
    "\n",
    "#### (a) Fit a full model, and use the update() function to perform backward selection (let $\\alpha_{crit} = 0.15$). Check the diagnostics for this model."
   ]
  },
  {
   "cell_type": "code",
   "execution_count": 1,
   "metadata": {},
   "outputs": [
    {
     "data": {
      "text/html": [
       "<table>\n",
       "<thead><tr><th scope=col>ID</th><th scope=col>Price</th><th scope=col>Sqft</th><th scope=col>Bedroom</th><th scope=col>Bathroom</th><th scope=col>Airconditioning</th><th scope=col>Garage</th><th scope=col>Pool</th><th scope=col>YearBuild</th><th scope=col>Quality</th><th scope=col>Lot</th><th scope=col>AdjHighway</th></tr></thead>\n",
       "<tbody>\n",
       "\t<tr><td>1     </td><td>360000</td><td>3032  </td><td>4     </td><td>4     </td><td>1     </td><td>2     </td><td>0     </td><td>1972  </td><td>2     </td><td>22221 </td><td>0     </td></tr>\n",
       "\t<tr><td>2     </td><td>340000</td><td>2058  </td><td>4     </td><td>2     </td><td>1     </td><td>2     </td><td>0     </td><td>1976  </td><td>2     </td><td>22912 </td><td>0     </td></tr>\n",
       "\t<tr><td>3     </td><td>250000</td><td>1780  </td><td>4     </td><td>3     </td><td>1     </td><td>2     </td><td>0     </td><td>1980  </td><td>2     </td><td>21345 </td><td>0     </td></tr>\n",
       "\t<tr><td>4     </td><td>205500</td><td>1638  </td><td>4     </td><td>2     </td><td>1     </td><td>2     </td><td>0     </td><td>1963  </td><td>2     </td><td>17342 </td><td>0     </td></tr>\n",
       "\t<tr><td>5     </td><td>275500</td><td>2196  </td><td>4     </td><td>3     </td><td>1     </td><td>2     </td><td>0     </td><td>1968  </td><td>2     </td><td>21786 </td><td>0     </td></tr>\n",
       "\t<tr><td>6     </td><td>248000</td><td>1966  </td><td>4     </td><td>3     </td><td>1     </td><td>5     </td><td>1     </td><td>1972  </td><td>2     </td><td>18902 </td><td>0     </td></tr>\n",
       "</tbody>\n",
       "</table>\n"
      ],
      "text/latex": [
       "\\begin{tabular}{r|llllllllllll}\n",
       " ID & Price & Sqft & Bedroom & Bathroom & Airconditioning & Garage & Pool & YearBuild & Quality & Lot & AdjHighway\\\\\n",
       "\\hline\n",
       "\t 1      & 360000 & 3032   & 4      & 4      & 1      & 2      & 0      & 1972   & 2      & 22221  & 0     \\\\\n",
       "\t 2      & 340000 & 2058   & 4      & 2      & 1      & 2      & 0      & 1976   & 2      & 22912  & 0     \\\\\n",
       "\t 3      & 250000 & 1780   & 4      & 3      & 1      & 2      & 0      & 1980   & 2      & 21345  & 0     \\\\\n",
       "\t 4      & 205500 & 1638   & 4      & 2      & 1      & 2      & 0      & 1963   & 2      & 17342  & 0     \\\\\n",
       "\t 5      & 275500 & 2196   & 4      & 3      & 1      & 2      & 0      & 1968   & 2      & 21786  & 0     \\\\\n",
       "\t 6      & 248000 & 1966   & 4      & 3      & 1      & 5      & 1      & 1972   & 2      & 18902  & 0     \\\\\n",
       "\\end{tabular}\n"
      ],
      "text/markdown": [
       "\n",
       "ID | Price | Sqft | Bedroom | Bathroom | Airconditioning | Garage | Pool | YearBuild | Quality | Lot | AdjHighway | \n",
       "|---|---|---|---|---|---|\n",
       "| 1      | 360000 | 3032   | 4      | 4      | 1      | 2      | 0      | 1972   | 2      | 22221  | 0      | \n",
       "| 2      | 340000 | 2058   | 4      | 2      | 1      | 2      | 0      | 1976   | 2      | 22912  | 0      | \n",
       "| 3      | 250000 | 1780   | 4      | 3      | 1      | 2      | 0      | 1980   | 2      | 21345  | 0      | \n",
       "| 4      | 205500 | 1638   | 4      | 2      | 1      | 2      | 0      | 1963   | 2      | 17342  | 0      | \n",
       "| 5      | 275500 | 2196   | 4      | 3      | 1      | 2      | 0      | 1968   | 2      | 21786  | 0      | \n",
       "| 6      | 248000 | 1966   | 4      | 3      | 1      | 5      | 1      | 1972   | 2      | 18902  | 0      | \n",
       "\n",
       "\n"
      ],
      "text/plain": [
       "  ID Price  Sqft Bedroom Bathroom Airconditioning Garage Pool YearBuild Quality\n",
       "1 1  360000 3032 4       4        1               2      0    1972      2      \n",
       "2 2  340000 2058 4       2        1               2      0    1976      2      \n",
       "3 3  250000 1780 4       3        1               2      0    1980      2      \n",
       "4 4  205500 1638 4       2        1               2      0    1963      2      \n",
       "5 5  275500 2196 4       3        1               2      0    1968      2      \n",
       "6 6  248000 1966 4       3        1               5      1    1972      2      \n",
       "  Lot   AdjHighway\n",
       "1 22221 0         \n",
       "2 22912 0         \n",
       "3 21345 0         \n",
       "4 17342 0         \n",
       "5 21786 0         \n",
       "6 18902 0         "
      ]
     },
     "metadata": {},
     "output_type": "display_data"
    },
    {
     "data": {
      "text/plain": [
       "\n",
       "Call:\n",
       "lm(formula = Price ~ . - ID, data = real)\n",
       "\n",
       "Residuals:\n",
       "    Min      1Q  Median      3Q     Max \n",
       "-164378  -41263   -3380   32835  348402 \n",
       "\n",
       "Coefficients:\n",
       "                  Estimate Std. Error t value Pr(>|t|)    \n",
       "(Intercept)     -2.390e+06  4.520e+05  -5.288 1.83e-07 ***\n",
       "Sqft             1.075e+02  7.127e+00  15.080  < 2e-16 ***\n",
       "Bedroom         -9.712e+03  3.659e+03  -2.654  0.00819 ** \n",
       "Bathroom        -1.067e+02  4.760e+03  -0.022  0.98212    \n",
       "Airconditioning -1.222e+04  8.950e+03  -1.365  0.17275    \n",
       "Garage           1.732e+04  5.660e+03   3.060  0.00233 ** \n",
       "Pool             1.249e+04  1.171e+04   1.067  0.28661    \n",
       "YearBuild        1.279e+03  2.277e+02   5.616 3.22e-08 ***\n",
       "Quality         -5.390e+04  7.658e+03  -7.038 6.31e-12 ***\n",
       "Lot              1.422e+00  2.656e-01   5.353 1.31e-07 ***\n",
       "AdjHighway      -2.717e+04  2.037e+04  -1.334  0.18285    \n",
       "---\n",
       "Signif. codes:  0 '***' 0.001 '**' 0.01 '*' 0.05 '.' 0.1 ' ' 1\n",
       "\n",
       "Residual standard error: 66130 on 511 degrees of freedom\n",
       "Multiple R-squared:  0.7745,\tAdjusted R-squared:  0.7701 \n",
       "F-statistic: 175.5 on 10 and 511 DF,  p-value: < 2.2e-16\n"
      ]
     },
     "metadata": {},
     "output_type": "display_data"
    }
   ],
   "source": [
    "real = read.csv(\"http://www.stat.cmu.edu/~cshalizi/mreg/15/hw/08/real-estate.csv\")\n",
    "head(real)\n",
    "lmod <- lm(Price ~ . -ID, data=real)\n",
    "summary(lmod)"
   ]
  },
  {
   "cell_type": "code",
   "execution_count": 2,
   "metadata": {},
   "outputs": [
    {
     "data": {
      "text/plain": [
       "\n",
       "Call:\n",
       "lm(formula = Price ~ Sqft + Bedroom + Airconditioning + Garage + \n",
       "    Pool + YearBuild + Quality + Lot + AdjHighway, data = real)\n",
       "\n",
       "Residuals:\n",
       "    Min      1Q  Median      3Q     Max \n",
       "-164089  -41289   -3326   32825  348341 \n",
       "\n",
       "Coefficients:\n",
       "                  Estimate Std. Error t value Pr(>|t|)    \n",
       "(Intercept)     -2.388e+06  4.456e+05  -5.360 1.26e-07 ***\n",
       "Sqft             1.074e+02  6.549e+00  16.402  < 2e-16 ***\n",
       "Bedroom         -9.737e+03  3.478e+03  -2.800  0.00530 ** \n",
       "Airconditioning -1.222e+04  8.939e+03  -1.368  0.17206    \n",
       "Garage           1.732e+04  5.654e+03   3.063  0.00231 ** \n",
       "Pool             1.246e+04  1.165e+04   1.070  0.28506    \n",
       "YearBuild        1.278e+03  2.240e+02   5.705 1.97e-08 ***\n",
       "Quality         -5.386e+04  7.462e+03  -7.218 1.92e-12 ***\n",
       "Lot              1.421e+00  2.645e-01   5.374 1.17e-07 ***\n",
       "AdjHighway      -2.715e+04  2.033e+04  -1.335  0.18240    \n",
       "---\n",
       "Signif. codes:  0 '***' 0.001 '**' 0.01 '*' 0.05 '.' 0.1 ' ' 1\n",
       "\n",
       "Residual standard error: 66070 on 512 degrees of freedom\n",
       "Multiple R-squared:  0.7745,\tAdjusted R-squared:  0.7706 \n",
       "F-statistic: 195.4 on 9 and 512 DF,  p-value: < 2.2e-16\n"
      ]
     },
     "metadata": {},
     "output_type": "display_data"
    }
   ],
   "source": [
    "lmod2 <- update(lmod, . ~ . -Bathroom)\n",
    "summary(lmod2)"
   ]
  },
  {
   "cell_type": "code",
   "execution_count": 3,
   "metadata": {},
   "outputs": [
    {
     "data": {
      "text/plain": [
       "\n",
       "Call:\n",
       "lm(formula = Price ~ Sqft + Bedroom + Airconditioning + Garage + \n",
       "    YearBuild + Quality + Lot + AdjHighway, data = real)\n",
       "\n",
       "Residuals:\n",
       "    Min      1Q  Median      3Q     Max \n",
       "-167217  -41281   -2756   33025  346702 \n",
       "\n",
       "Coefficients:\n",
       "                  Estimate Std. Error t value Pr(>|t|)    \n",
       "(Intercept)     -2.363e+06  4.450e+05  -5.309 1.64e-07 ***\n",
       "Sqft             1.079e+02  6.534e+00  16.515  < 2e-16 ***\n",
       "Bedroom         -9.540e+03  3.473e+03  -2.747  0.00623 ** \n",
       "Airconditioning -1.176e+04  8.930e+03  -1.317  0.18830    \n",
       "Garage           1.751e+04  5.652e+03   3.097  0.00206 ** \n",
       "YearBuild        1.264e+03  2.237e+02   5.652 2.63e-08 ***\n",
       "Quality         -5.403e+04  7.461e+03  -7.242 1.63e-12 ***\n",
       "Lot              1.402e+00  2.639e-01   5.312 1.62e-07 ***\n",
       "AdjHighway      -2.761e+04  2.033e+04  -1.358  0.17514    \n",
       "---\n",
       "Signif. codes:  0 '***' 0.001 '**' 0.01 '*' 0.05 '.' 0.1 ' ' 1\n",
       "\n",
       "Residual standard error: 66080 on 513 degrees of freedom\n",
       "Multiple R-squared:  0.774,\tAdjusted R-squared:  0.7705 \n",
       "F-statistic: 219.6 on 8 and 513 DF,  p-value: < 2.2e-16\n"
      ]
     },
     "metadata": {},
     "output_type": "display_data"
    }
   ],
   "source": [
    "lmod3 <- update(lmod2, . ~ . -Pool)\n",
    "summary(lmod3)"
   ]
  },
  {
   "cell_type": "code",
   "execution_count": 4,
   "metadata": {},
   "outputs": [
    {
     "data": {
      "text/plain": [
       "\n",
       "Call:\n",
       "lm(formula = Price ~ Sqft + Bedroom + Garage + YearBuild + Quality + \n",
       "    Lot + AdjHighway, data = real)\n",
       "\n",
       "Residuals:\n",
       "    Min      1Q  Median      3Q     Max \n",
       "-165308  -41549   -3127   33324  347881 \n",
       "\n",
       "Coefficients:\n",
       "              Estimate Std. Error t value Pr(>|t|)    \n",
       "(Intercept) -2.271e+06  4.399e+05  -5.163 3.47e-07 ***\n",
       "Sqft         1.087e+02  6.507e+00  16.710  < 2e-16 ***\n",
       "Bedroom     -1.008e+04  3.451e+03  -2.921  0.00364 ** \n",
       "Garage       1.669e+04  5.622e+03   2.969  0.00313 ** \n",
       "YearBuild    1.211e+03  2.202e+02   5.501 5.96e-08 ***\n",
       "Quality     -5.213e+04  7.326e+03  -7.116 3.74e-12 ***\n",
       "Lot          1.449e+00  2.616e-01   5.541 4.82e-08 ***\n",
       "AdjHighway  -2.653e+04  2.033e+04  -1.305  0.19252    \n",
       "---\n",
       "Signif. codes:  0 '***' 0.001 '**' 0.01 '*' 0.05 '.' 0.1 ' ' 1\n",
       "\n",
       "Residual standard error: 66120 on 514 degrees of freedom\n",
       "Multiple R-squared:  0.7732,\tAdjusted R-squared:  0.7702 \n",
       "F-statistic: 250.4 on 7 and 514 DF,  p-value: < 2.2e-16\n"
      ]
     },
     "metadata": {},
     "output_type": "display_data"
    }
   ],
   "source": [
    "lmod4 <- update(lmod3, . ~ . -Airconditioning)\n",
    "summary(lmod4)"
   ]
  },
  {
   "cell_type": "code",
   "execution_count": 5,
   "metadata": {},
   "outputs": [
    {
     "data": {
      "text/plain": [
       "\n",
       "Call:\n",
       "lm(formula = Price ~ Sqft + Bedroom + Garage + YearBuild + Quality + \n",
       "    Lot, data = real)\n",
       "\n",
       "Residuals:\n",
       "    Min      1Q  Median      3Q     Max \n",
       "-166119  -41432   -2654   32273  348313 \n",
       "\n",
       "Coefficients:\n",
       "              Estimate Std. Error t value Pr(>|t|)    \n",
       "(Intercept) -2.233e+06  4.392e+05  -5.084 5.18e-07 ***\n",
       "Sqft         1.093e+02  6.496e+00  16.828  < 2e-16 ***\n",
       "Bedroom     -1.007e+04  3.454e+03  -2.917  0.00369 ** \n",
       "Garage       1.665e+04  5.626e+03   2.959  0.00323 ** \n",
       "YearBuild    1.191e+03  2.198e+02   5.420 9.18e-08 ***\n",
       "Quality     -5.223e+04  7.330e+03  -7.126 3.51e-12 ***\n",
       "Lot          1.415e+00  2.604e-01   5.433 8.57e-08 ***\n",
       "---\n",
       "Signif. codes:  0 '***' 0.001 '**' 0.01 '*' 0.05 '.' 0.1 ' ' 1\n",
       "\n",
       "Residual standard error: 66170 on 515 degrees of freedom\n",
       "Multiple R-squared:  0.7725,\tAdjusted R-squared:  0.7698 \n",
       "F-statistic: 291.4 on 6 and 515 DF,  p-value: < 2.2e-16\n"
      ]
     },
     "metadata": {},
     "output_type": "display_data"
    }
   ],
   "source": [
    "lmod5 <- update(lmod4, .~. - AdjHighway)\n",
    "summary(lmod5)"
   ]
  },
  {
   "cell_type": "code",
   "execution_count": 6,
   "metadata": {},
   "outputs": [
    {
     "data": {
      "image/png": "[encoded data removed]",
      "text/plain": [
       "Plot with title \"\""
      ]
     },
     "metadata": {},
     "output_type": "display_data"
    }
   ],
   "source": [
    "par(mfrow = c(2,2))\n",
    "plot(lmod5)"
   ]
  },
  {
   "cell_type": "markdown",
   "metadata": {},
   "source": [
    "#### Based on the above diagnostics, we can see that the model does not appear to be normal (the points do not fall in the linear line in the QQ plot or based on the residual plot we can see that the model does not have a constant variance. Also, It does not have any influential points."
   ]
  },
  {
   "cell_type": "markdown",
   "metadata": {},
   "source": [
    "## Problem #2\n",
    "\n",
    "The cpus dataset in the MASS library is a relative performance measure and characteristics of 209 CPUs. See ?cpus for a help file and more information about this data. \n",
    "\n",
    "#### Use the regsubsets() function to find the best models of size 1 through 4 (i.e., the best SLR model, the best model with 2 predictors, etc.). Calculate and plot the AIC as a function of the number of predictors. "
   ]
  },
  {
   "cell_type": "code",
   "execution_count": 7,
   "metadata": {
    "scrolled": false
   },
   "outputs": [
    {
     "name": "stderr",
     "output_type": "stream",
     "text": [
      "Warning message:\n",
      "\"package 'leaps' was built under R version 3.5.2\""
     ]
    },
    {
     "data": {
      "text/html": [
       "<table>\n",
       "<thead><tr><th scope=col>name</th><th scope=col>syct</th><th scope=col>mmin</th><th scope=col>mmax</th><th scope=col>cach</th><th scope=col>chmin</th><th scope=col>chmax</th><th scope=col>perf</th><th scope=col>estperf</th></tr></thead>\n",
       "<tbody>\n",
       "\t<tr><td>ADVISOR 32/60 </td><td>125           </td><td> 256          </td><td> 6000         </td><td>256           </td><td>16            </td><td>128           </td><td>198           </td><td>199           </td></tr>\n",
       "\t<tr><td>AMDAHL 470V/7 </td><td> 29           </td><td>8000          </td><td>32000         </td><td> 32           </td><td> 8            </td><td> 32           </td><td>269           </td><td>253           </td></tr>\n",
       "\t<tr><td>AMDAHL 470/7A </td><td> 29           </td><td>8000          </td><td>32000         </td><td> 32           </td><td> 8            </td><td> 32           </td><td>220           </td><td>253           </td></tr>\n",
       "\t<tr><td>AMDAHL 470V/7B</td><td> 29           </td><td>8000          </td><td>32000         </td><td> 32           </td><td> 8            </td><td> 32           </td><td>172           </td><td>253           </td></tr>\n",
       "\t<tr><td>AMDAHL 470V/7C</td><td> 29           </td><td>8000          </td><td>16000         </td><td> 32           </td><td> 8            </td><td> 16           </td><td>132           </td><td>132           </td></tr>\n",
       "\t<tr><td>AMDAHL 470V/8 </td><td> 26           </td><td>8000          </td><td>32000         </td><td> 64           </td><td> 8            </td><td> 32           </td><td>318           </td><td>290           </td></tr>\n",
       "</tbody>\n",
       "</table>\n"
      ],
      "text/latex": [
       "\\begin{tabular}{r|lllllllll}\n",
       " name & syct & mmin & mmax & cach & chmin & chmax & perf & estperf\\\\\n",
       "\\hline\n",
       "\t ADVISOR 32/60  & 125            &  256           &  6000          & 256            & 16             & 128            & 198            & 199           \\\\\n",
       "\t AMDAHL 470V/7  &  29            & 8000           & 32000          &  32            &  8             &  32            & 269            & 253           \\\\\n",
       "\t AMDAHL 470/7A  &  29            & 8000           & 32000          &  32            &  8             &  32            & 220            & 253           \\\\\n",
       "\t AMDAHL 470V/7B &  29            & 8000           & 32000          &  32            &  8             &  32            & 172            & 253           \\\\\n",
       "\t AMDAHL 470V/7C &  29            & 8000           & 16000          &  32            &  8             &  16            & 132            & 132           \\\\\n",
       "\t AMDAHL 470V/8  &  26            & 8000           & 32000          &  64            &  8             &  32            & 318            & 290           \\\\\n",
       "\\end{tabular}\n"
      ],
      "text/markdown": [
       "\n",
       "name | syct | mmin | mmax | cach | chmin | chmax | perf | estperf | \n",
       "|---|---|---|---|---|---|\n",
       "| ADVISOR 32/60  | 125            |  256           |  6000          | 256            | 16             | 128            | 198            | 199            | \n",
       "| AMDAHL 470V/7  |  29            | 8000           | 32000          |  32            |  8             |  32            | 269            | 253            | \n",
       "| AMDAHL 470/7A  |  29            | 8000           | 32000          |  32            |  8             |  32            | 220            | 253            | \n",
       "| AMDAHL 470V/7B |  29            | 8000           | 32000          |  32            |  8             |  32            | 172            | 253            | \n",
       "| AMDAHL 470V/7C |  29            | 8000           | 16000          |  32            |  8             |  16            | 132            | 132            | \n",
       "| AMDAHL 470V/8  |  26            | 8000           | 32000          |  64            |  8             |  32            | 318            | 290            | \n",
       "\n",
       "\n"
      ],
      "text/plain": [
       "  name           syct mmin mmax  cach chmin chmax perf estperf\n",
       "1 ADVISOR 32/60  125   256  6000 256  16    128   198  199    \n",
       "2 AMDAHL 470V/7   29  8000 32000  32   8     32   269  253    \n",
       "3 AMDAHL 470/7A   29  8000 32000  32   8     32   220  253    \n",
       "4 AMDAHL 470V/7B  29  8000 32000  32   8     32   172  253    \n",
       "5 AMDAHL 470V/7C  29  8000 16000  32   8     16   132  132    \n",
       "6 AMDAHL 470V/8   26  8000 32000  64   8     32   318  290    "
      ]
     },
     "metadata": {},
     "output_type": "display_data"
    },
    {
     "data": {
      "text/html": [
       "<table>\n",
       "<thead><tr><th></th><th scope=col>(Intercept)</th><th scope=col>syct</th><th scope=col>mmin</th><th scope=col>mmax</th><th scope=col>cach</th><th scope=col>chmin</th><th scope=col>chmax</th></tr></thead>\n",
       "<tbody>\n",
       "\t<tr><th scope=row>1</th><td>TRUE </td><td>FALSE</td><td>FALSE</td><td>TRUE </td><td>FALSE</td><td>FALSE</td><td>FALSE</td></tr>\n",
       "\t<tr><th scope=row>2</th><td>TRUE </td><td>FALSE</td><td>FALSE</td><td>TRUE </td><td> TRUE</td><td>FALSE</td><td>FALSE</td></tr>\n",
       "\t<tr><th scope=row>3</th><td>TRUE </td><td>FALSE</td><td> TRUE</td><td>TRUE </td><td>FALSE</td><td>FALSE</td><td> TRUE</td></tr>\n",
       "\t<tr><th scope=row>4</th><td>TRUE </td><td>FALSE</td><td> TRUE</td><td>TRUE </td><td> TRUE</td><td>FALSE</td><td> TRUE</td></tr>\n",
       "</tbody>\n",
       "</table>\n"
      ],
      "text/latex": [
       "\\begin{tabular}{r|lllllll}\n",
       "  & (Intercept) & syct & mmin & mmax & cach & chmin & chmax\\\\\n",
       "\\hline\n",
       "\t1 & TRUE  & FALSE & FALSE & TRUE  & FALSE & FALSE & FALSE\\\\\n",
       "\t2 & TRUE  & FALSE & FALSE & TRUE  &  TRUE & FALSE & FALSE\\\\\n",
       "\t3 & TRUE  & FALSE &  TRUE & TRUE  & FALSE & FALSE &  TRUE\\\\\n",
       "\t4 & TRUE  & FALSE &  TRUE & TRUE  &  TRUE & FALSE &  TRUE\\\\\n",
       "\\end{tabular}\n"
      ],
      "text/markdown": [
       "\n",
       "| <!--/--> | (Intercept) | syct | mmin | mmax | cach | chmin | chmax | \n",
       "|---|---|---|---|\n",
       "| 1 | TRUE  | FALSE | FALSE | TRUE  | FALSE | FALSE | FALSE | \n",
       "| 2 | TRUE  | FALSE | FALSE | TRUE  |  TRUE | FALSE | FALSE | \n",
       "| 3 | TRUE  | FALSE |  TRUE | TRUE  | FALSE | FALSE |  TRUE | \n",
       "| 4 | TRUE  | FALSE |  TRUE | TRUE  |  TRUE | FALSE |  TRUE | \n",
       "\n",
       "\n"
      ],
      "text/plain": [
       "  (Intercept) syct  mmin  mmax cach  chmin chmax\n",
       "1 TRUE        FALSE FALSE TRUE FALSE FALSE FALSE\n",
       "2 TRUE        FALSE FALSE TRUE  TRUE FALSE FALSE\n",
       "3 TRUE        FALSE  TRUE TRUE FALSE FALSE  TRUE\n",
       "4 TRUE        FALSE  TRUE TRUE  TRUE FALSE  TRUE"
      ]
     },
     "metadata": {},
     "output_type": "display_data"
    }
   ],
   "source": [
    "library(leaps)\n",
    "library(MASS)\n",
    "data(cpus)\n",
    "head(cpus)\n",
    "rs <- regsubsets(perf ~ syct + mmin + mmax + cach + chmin + chmax, data = cpus, nvmax =4)\n",
    "summary(rs)$which"
   ]
  },
  {
   "cell_type": "code",
   "execution_count": 8,
   "metadata": {},
   "outputs": [
    {
     "data": {
      "text/plain": [
       "\n",
       "Call:\n",
       "lm(formula = perf ~ mmax, data = cpus)\n",
       "\n",
       "Residuals:\n",
       "    Min      1Q  Median      3Q     Max \n",
       "-230.75  -36.06    3.31   29.33  426.50 \n",
       "\n",
       "Coefficients:\n",
       "              Estimate Std. Error t value Pr(>|t|)    \n",
       "(Intercept) -3.400e+01  8.001e+00   -4.25 3.24e-05 ***\n",
       "mmax         1.184e-02  4.816e-04   24.58  < 2e-16 ***\n",
       "---\n",
       "Signif. codes:  0 '***' 0.001 '**' 0.01 '*' 0.05 '.' 0.1 ' ' 1\n",
       "\n",
       "Residual standard error: 81.45 on 207 degrees of freedom\n",
       "Multiple R-squared:  0.7448,\tAdjusted R-squared:  0.7435 \n",
       "F-statistic:   604 on 1 and 207 DF,  p-value: < 2.2e-16\n"
      ]
     },
     "metadata": {},
     "output_type": "display_data"
    }
   ],
   "source": [
    "lmod1 <- lm(perf ~ mmax, data=cpus)\n",
    "summary(lmod1)"
   ]
  },
  {
   "cell_type": "code",
   "execution_count": 9,
   "metadata": {},
   "outputs": [
    {
     "data": {
      "text/plain": [
       "\n",
       "Call:\n",
       "lm(formula = perf ~ mmax + cach, data = cpus)\n",
       "\n",
       "Residuals:\n",
       "    Min      1Q  Median      3Q     Max \n",
       "-233.86  -31.44    6.22   30.45  420.43 \n",
       "\n",
       "Coefficients:\n",
       "              Estimate Std. Error t value Pr(>|t|)    \n",
       "(Intercept) -3.756e+01  7.113e+00  -5.280 3.27e-07 ***\n",
       "mmax         9.777e-03  5.068e-04  19.290  < 2e-16 ***\n",
       "cach         1.105e+00  1.463e-01   7.553 1.36e-12 ***\n",
       "---\n",
       "Signif. codes:  0 '***' 0.001 '**' 0.01 '*' 0.05 '.' 0.1 ' ' 1\n",
       "\n",
       "Residual standard error: 72.25 on 206 degrees of freedom\n",
       "Multiple R-squared:  0.8001,\tAdjusted R-squared:  0.7982 \n",
       "F-statistic: 412.3 on 2 and 206 DF,  p-value: < 2.2e-16\n"
      ]
     },
     "metadata": {},
     "output_type": "display_data"
    }
   ],
   "source": [
    "lmod2 <- lm(perf ~ mmax + cach, data=cpus)\n",
    "summary(lmod2)"
   ]
  },
  {
   "cell_type": "code",
   "execution_count": 10,
   "metadata": {},
   "outputs": [
    {
     "data": {
      "text/plain": [
       "\n",
       "Call:\n",
       "lm(formula = perf ~ mmin + mmax + chmax, data = cpus)\n",
       "\n",
       "Residuals:\n",
       "    Min      1Q  Median      3Q     Max \n",
       "-223.25  -27.86    6.97   25.50  394.38 \n",
       "\n",
       "Coefficients:\n",
       "              Estimate Std. Error t value Pr(>|t|)    \n",
       "(Intercept) -40.338585   6.295422  -6.408 9.95e-10 ***\n",
       "mmin          0.017410   0.001791   9.719  < 2e-16 ***\n",
       "mmax          0.005407   0.000672   8.046 6.80e-14 ***\n",
       "chmax         1.764912   0.205101   8.605 2.00e-15 ***\n",
       "---\n",
       "Signif. codes:  0 '***' 0.001 '**' 0.01 '*' 0.05 '.' 0.1 ' ' 1\n",
       "\n",
       "Residual standard error: 63.44 on 205 degrees of freedom\n",
       "Multiple R-squared:  0.8467,\tAdjusted R-squared:  0.8444 \n",
       "F-statistic: 377.3 on 3 and 205 DF,  p-value: < 2.2e-16\n"
      ]
     },
     "metadata": {},
     "output_type": "display_data"
    }
   ],
   "source": [
    "lmod3 <- lm(perf ~ mmin + mmax + chmax, data=cpus)\n",
    "summary(lmod3)"
   ]
  },
  {
   "cell_type": "code",
   "execution_count": 11,
   "metadata": {},
   "outputs": [
    {
     "data": {
      "text/plain": [
       "\n",
       "Call:\n",
       "lm(formula = perf ~ mmin + mmax + cach + chmax, data = cpus)\n",
       "\n",
       "Residuals:\n",
       "    Min      1Q  Median      3Q     Max \n",
       "-186.73  -26.08    8.27   26.99  402.87 \n",
       "\n",
       "Coefficients:\n",
       "              Estimate Std. Error t value Pr(>|t|)    \n",
       "(Intercept) -40.982864   6.041898  -6.783 1.25e-10 ***\n",
       "mmin          0.014887   0.001815   8.202 2.61e-14 ***\n",
       "mmax          0.005330   0.000645   8.263 1.79e-14 ***\n",
       "cach          0.587097   0.135764   4.324 2.39e-05 ***\n",
       "chmax         1.436179   0.210954   6.808 1.08e-10 ***\n",
       "---\n",
       "Signif. codes:  0 '***' 0.001 '**' 0.01 '*' 0.05 '.' 0.1 ' ' 1\n",
       "\n",
       "Residual standard error: 60.86 on 204 degrees of freedom\n",
       "Multiple R-squared:  0.8595,\tAdjusted R-squared:  0.8568 \n",
       "F-statistic: 312.1 on 4 and 204 DF,  p-value: < 2.2e-16\n"
      ]
     },
     "metadata": {},
     "output_type": "display_data"
    }
   ],
   "source": [
    "lmod4 <- lm(perf ~ mmin + mmax + cach + chmax, data=cpus)\n",
    "summary(lmod4)"
   ]
  },
  {
   "cell_type": "code",
   "execution_count": 12,
   "metadata": {},
   "outputs": [
    {
     "data": {
      "image/png": "[encoded data removed]",
      "text/plain": [
       "plot without title"
      ]
     },
     "metadata": {},
     "output_type": "display_data"
    }
   ],
   "source": [
    "#−2logLike+2*I(1:4)\n",
    "AIC. <- rep(NA, 4)\n",
    "AIC.[1] <- AIC(lmod1)\n",
    "AIC.[2] <- AIC(lmod2)\n",
    "AIC.[3] <- AIC(lmod3)\n",
    "AIC.[4] <- AIC(lmod4)\n",
    "pars <- (1:4)\n",
    "plot(AIC. ~ pars)"
   ]
  },
  {
   "cell_type": "markdown",
   "metadata": {},
   "source": [
    "# Problem #3\n",
    "\n",
    "The fat dataset in the faraway package contains 252 male human body measurements. \n",
    "\n",
    "#### (a) Consider the circumference measurements as predictors (columns 9 through 18), with brozek--percentage of body fat--as the response. Show that using these predictors would result in the problem of multicollinearity."
   ]
  },
  {
   "cell_type": "code",
   "execution_count": 13,
   "metadata": {},
   "outputs": [
    {
     "data": {
      "text/plain": [
       "\n",
       "Call:\n",
       "lm(formula = brozek ~ ., data = cfat)\n",
       "\n",
       "Residuals:\n",
       "    Min      1Q  Median      3Q     Max \n",
       "-9.3159 -2.7435 -0.1584  2.8388 10.5150 \n",
       "\n",
       "Coefficients:\n",
       "             Estimate Std. Error t value Pr(>|t|)    \n",
       "(Intercept)  7.228749   6.214309   1.163  0.24588    \n",
       "neck        -0.581947   0.208580  -2.790  0.00569 ** \n",
       "chest       -0.090847   0.085430  -1.063  0.28866    \n",
       "abdom        0.960229   0.071582  13.414  < 2e-16 ***\n",
       "hip         -0.391355   0.112686  -3.473  0.00061 ***\n",
       "thigh        0.133708   0.124922   1.070  0.28554    \n",
       "knee        -0.094055   0.212394  -0.443  0.65828    \n",
       "ankle        0.004222   0.203175   0.021  0.98344    \n",
       "biceps       0.111196   0.159118   0.699  0.48533    \n",
       "forearm      0.344536   0.185511   1.857  0.06450 .  \n",
       "wrist       -1.353472   0.471410  -2.871  0.00445 ** \n",
       "---\n",
       "Signif. codes:  0 '***' 0.001 '**' 0.01 '*' 0.05 '.' 0.1 ' ' 1\n",
       "\n",
       "Residual standard error: 4.071 on 241 degrees of freedom\n",
       "Multiple R-squared:  0.7351,\tAdjusted R-squared:  0.7241 \n",
       "F-statistic: 66.87 on 10 and 241 DF,  p-value: < 2.2e-16\n"
      ]
     },
     "metadata": {},
     "output_type": "display_data"
    }
   ],
   "source": [
    "data(fat, package = \"faraway\")\n",
    "cfat = fat[,c(1,9:18)]\n",
    "lmod <- lm(brozek ~ ., data=cfat)\n",
    "summary(lmod)"
   ]
  },
  {
   "cell_type": "code",
   "execution_count": 14,
   "metadata": {},
   "outputs": [
    {
     "data": {
      "text/html": [
       "<table>\n",
       "<thead><tr><th></th><th scope=col>brozek</th><th scope=col>neck</th><th scope=col>chest</th><th scope=col>abdom</th><th scope=col>hip</th><th scope=col>thigh</th><th scope=col>knee</th><th scope=col>ankle</th><th scope=col>biceps</th><th scope=col>forearm</th><th scope=col>wrist</th></tr></thead>\n",
       "<tbody>\n",
       "\t<tr><th scope=row>brozek</th><td>1.0000000</td><td>0.4914889</td><td>0.7028852</td><td>0.8137062</td><td>0.6256999</td><td>0.5612844</td><td>0.5077859</td><td>0.2667826</td><td>0.4930309</td><td>0.3632774</td><td>0.3475728</td></tr>\n",
       "\t<tr><th scope=row>neck</th><td>0.4914889</td><td>1.0000000</td><td>0.7848350</td><td>0.7540774</td><td>0.7349579</td><td>0.6956973</td><td>0.6724050</td><td>0.4778924</td><td>0.7311459</td><td>0.6236603</td><td>0.7448264</td></tr>\n",
       "\t<tr><th scope=row>chest</th><td>0.7028852</td><td>0.7848350</td><td>1.0000000</td><td>0.9158277</td><td>0.8294199</td><td>0.7298586</td><td>0.7194964</td><td>0.4829879</td><td>0.7279075</td><td>0.5801727</td><td>0.6601623</td></tr>\n",
       "\t<tr><th scope=row>abdom</th><td>0.8137062</td><td>0.7540774</td><td>0.9158277</td><td>1.0000000</td><td>0.8740662</td><td>0.7666239</td><td>0.7371789</td><td>0.4532227</td><td>0.6849827</td><td>0.5033161</td><td>0.6198324</td></tr>\n",
       "\t<tr><th scope=row>hip</th><td>0.6256999</td><td>0.7349579</td><td>0.8294199</td><td>0.8740662</td><td>1.0000000</td><td>0.8964098</td><td>0.8234726</td><td>0.5583868</td><td>0.7392725</td><td>0.5450141</td><td>0.6300895</td></tr>\n",
       "\t<tr><th scope=row>thigh</th><td>0.5612844</td><td>0.6956973</td><td>0.7298586</td><td>0.7666239</td><td>0.8964098</td><td>1.0000000</td><td>0.7991703</td><td>0.5397971</td><td>0.7614774</td><td>0.5668422</td><td>0.5586848</td></tr>\n",
       "\t<tr><th scope=row>knee</th><td>0.5077859</td><td>0.6724050</td><td>0.7194964</td><td>0.7371789</td><td>0.8234726</td><td>0.7991703</td><td>1.0000000</td><td>0.6116082</td><td>0.6787088</td><td>0.5558982</td><td>0.6645073</td></tr>\n",
       "\t<tr><th scope=row>ankle</th><td>0.2667826</td><td>0.4778924</td><td>0.4829879</td><td>0.4532227</td><td>0.5583868</td><td>0.5397971</td><td>0.6116082</td><td>1.0000000</td><td>0.4848545</td><td>0.4190500</td><td>0.5661946</td></tr>\n",
       "\t<tr><th scope=row>biceps</th><td>0.4930309</td><td>0.7311459</td><td>0.7279075</td><td>0.6849827</td><td>0.7392725</td><td>0.7614774</td><td>0.6787088</td><td>0.4848545</td><td>1.0000000</td><td>0.6782551</td><td>0.6321264</td></tr>\n",
       "\t<tr><th scope=row>forearm</th><td>0.3632774</td><td>0.6236603</td><td>0.5801727</td><td>0.5033161</td><td>0.5450141</td><td>0.5668422</td><td>0.5558982</td><td>0.4190500</td><td>0.6782551</td><td>1.0000000</td><td>0.5855883</td></tr>\n",
       "\t<tr><th scope=row>wrist</th><td>0.3475728</td><td>0.7448264</td><td>0.6601623</td><td>0.6198324</td><td>0.6300895</td><td>0.5586848</td><td>0.6645073</td><td>0.5661946</td><td>0.6321264</td><td>0.5855883</td><td>1.0000000</td></tr>\n",
       "</tbody>\n",
       "</table>\n"
      ],
      "text/latex": [
       "\\begin{tabular}{r|lllllllllll}\n",
       "  & brozek & neck & chest & abdom & hip & thigh & knee & ankle & biceps & forearm & wrist\\\\\n",
       "\\hline\n",
       "\tbrozek & 1.0000000 & 0.4914889 & 0.7028852 & 0.8137062 & 0.6256999 & 0.5612844 & 0.5077859 & 0.2667826 & 0.4930309 & 0.3632774 & 0.3475728\\\\\n",
       "\tneck & 0.4914889 & 1.0000000 & 0.7848350 & 0.7540774 & 0.7349579 & 0.6956973 & 0.6724050 & 0.4778924 & 0.7311459 & 0.6236603 & 0.7448264\\\\\n",
       "\tchest & 0.7028852 & 0.7848350 & 1.0000000 & 0.9158277 & 0.8294199 & 0.7298586 & 0.7194964 & 0.4829879 & 0.7279075 & 0.5801727 & 0.6601623\\\\\n",
       "\tabdom & 0.8137062 & 0.7540774 & 0.9158277 & 1.0000000 & 0.8740662 & 0.7666239 & 0.7371789 & 0.4532227 & 0.6849827 & 0.5033161 & 0.6198324\\\\\n",
       "\thip & 0.6256999 & 0.7349579 & 0.8294199 & 0.8740662 & 1.0000000 & 0.8964098 & 0.8234726 & 0.5583868 & 0.7392725 & 0.5450141 & 0.6300895\\\\\n",
       "\tthigh & 0.5612844 & 0.6956973 & 0.7298586 & 0.7666239 & 0.8964098 & 1.0000000 & 0.7991703 & 0.5397971 & 0.7614774 & 0.5668422 & 0.5586848\\\\\n",
       "\tknee & 0.5077859 & 0.6724050 & 0.7194964 & 0.7371789 & 0.8234726 & 0.7991703 & 1.0000000 & 0.6116082 & 0.6787088 & 0.5558982 & 0.6645073\\\\\n",
       "\tankle & 0.2667826 & 0.4778924 & 0.4829879 & 0.4532227 & 0.5583868 & 0.5397971 & 0.6116082 & 1.0000000 & 0.4848545 & 0.4190500 & 0.5661946\\\\\n",
       "\tbiceps & 0.4930309 & 0.7311459 & 0.7279075 & 0.6849827 & 0.7392725 & 0.7614774 & 0.6787088 & 0.4848545 & 1.0000000 & 0.6782551 & 0.6321264\\\\\n",
       "\tforearm & 0.3632774 & 0.6236603 & 0.5801727 & 0.5033161 & 0.5450141 & 0.5668422 & 0.5558982 & 0.4190500 & 0.6782551 & 1.0000000 & 0.5855883\\\\\n",
       "\twrist & 0.3475728 & 0.7448264 & 0.6601623 & 0.6198324 & 0.6300895 & 0.5586848 & 0.6645073 & 0.5661946 & 0.6321264 & 0.5855883 & 1.0000000\\\\\n",
       "\\end{tabular}\n"
      ],
      "text/markdown": [
       "\n",
       "| <!--/--> | brozek | neck | chest | abdom | hip | thigh | knee | ankle | biceps | forearm | wrist | \n",
       "|---|---|---|---|---|---|---|---|---|---|---|\n",
       "| brozek | 1.0000000 | 0.4914889 | 0.7028852 | 0.8137062 | 0.6256999 | 0.5612844 | 0.5077859 | 0.2667826 | 0.4930309 | 0.3632774 | 0.3475728 | \n",
       "| neck | 0.4914889 | 1.0000000 | 0.7848350 | 0.7540774 | 0.7349579 | 0.6956973 | 0.6724050 | 0.4778924 | 0.7311459 | 0.6236603 | 0.7448264 | \n",
       "| chest | 0.7028852 | 0.7848350 | 1.0000000 | 0.9158277 | 0.8294199 | 0.7298586 | 0.7194964 | 0.4829879 | 0.7279075 | 0.5801727 | 0.6601623 | \n",
       "| abdom | 0.8137062 | 0.7540774 | 0.9158277 | 1.0000000 | 0.8740662 | 0.7666239 | 0.7371789 | 0.4532227 | 0.6849827 | 0.5033161 | 0.6198324 | \n",
       "| hip | 0.6256999 | 0.7349579 | 0.8294199 | 0.8740662 | 1.0000000 | 0.8964098 | 0.8234726 | 0.5583868 | 0.7392725 | 0.5450141 | 0.6300895 | \n",
       "| thigh | 0.5612844 | 0.6956973 | 0.7298586 | 0.7666239 | 0.8964098 | 1.0000000 | 0.7991703 | 0.5397971 | 0.7614774 | 0.5668422 | 0.5586848 | \n",
       "| knee | 0.5077859 | 0.6724050 | 0.7194964 | 0.7371789 | 0.8234726 | 0.7991703 | 1.0000000 | 0.6116082 | 0.6787088 | 0.5558982 | 0.6645073 | \n",
       "| ankle | 0.2667826 | 0.4778924 | 0.4829879 | 0.4532227 | 0.5583868 | 0.5397971 | 0.6116082 | 1.0000000 | 0.4848545 | 0.4190500 | 0.5661946 | \n",
       "| biceps | 0.4930309 | 0.7311459 | 0.7279075 | 0.6849827 | 0.7392725 | 0.7614774 | 0.6787088 | 0.4848545 | 1.0000000 | 0.6782551 | 0.6321264 | \n",
       "| forearm | 0.3632774 | 0.6236603 | 0.5801727 | 0.5033161 | 0.5450141 | 0.5668422 | 0.5558982 | 0.4190500 | 0.6782551 | 1.0000000 | 0.5855883 | \n",
       "| wrist | 0.3475728 | 0.7448264 | 0.6601623 | 0.6198324 | 0.6300895 | 0.5586848 | 0.6645073 | 0.5661946 | 0.6321264 | 0.5855883 | 1.0000000 | \n",
       "\n",
       "\n"
      ],
      "text/plain": [
       "        brozek    neck      chest     abdom     hip       thigh     knee     \n",
       "brozek  1.0000000 0.4914889 0.7028852 0.8137062 0.6256999 0.5612844 0.5077859\n",
       "neck    0.4914889 1.0000000 0.7848350 0.7540774 0.7349579 0.6956973 0.6724050\n",
       "chest   0.7028852 0.7848350 1.0000000 0.9158277 0.8294199 0.7298586 0.7194964\n",
       "abdom   0.8137062 0.7540774 0.9158277 1.0000000 0.8740662 0.7666239 0.7371789\n",
       "hip     0.6256999 0.7349579 0.8294199 0.8740662 1.0000000 0.8964098 0.8234726\n",
       "thigh   0.5612844 0.6956973 0.7298586 0.7666239 0.8964098 1.0000000 0.7991703\n",
       "knee    0.5077859 0.6724050 0.7194964 0.7371789 0.8234726 0.7991703 1.0000000\n",
       "ankle   0.2667826 0.4778924 0.4829879 0.4532227 0.5583868 0.5397971 0.6116082\n",
       "biceps  0.4930309 0.7311459 0.7279075 0.6849827 0.7392725 0.7614774 0.6787088\n",
       "forearm 0.3632774 0.6236603 0.5801727 0.5033161 0.5450141 0.5668422 0.5558982\n",
       "wrist   0.3475728 0.7448264 0.6601623 0.6198324 0.6300895 0.5586848 0.6645073\n",
       "        ankle     biceps    forearm   wrist    \n",
       "brozek  0.2667826 0.4930309 0.3632774 0.3475728\n",
       "neck    0.4778924 0.7311459 0.6236603 0.7448264\n",
       "chest   0.4829879 0.7279075 0.5801727 0.6601623\n",
       "abdom   0.4532227 0.6849827 0.5033161 0.6198324\n",
       "hip     0.5583868 0.7392725 0.5450141 0.6300895\n",
       "thigh   0.5397971 0.7614774 0.5668422 0.5586848\n",
       "knee    0.6116082 0.6787088 0.5558982 0.6645073\n",
       "ankle   1.0000000 0.4848545 0.4190500 0.5661946\n",
       "biceps  0.4848545 1.0000000 0.6782551 0.6321264\n",
       "forearm 0.4190500 0.6782551 1.0000000 0.5855883\n",
       "wrist   0.5661946 0.6321264 0.5855883 1.0000000"
      ]
     },
     "metadata": {},
     "output_type": "display_data"
    }
   ],
   "source": [
    "cor(cfat)"
   ]
  },
  {
   "cell_type": "markdown",
   "metadata": {},
   "source": [
    "#### The above table shows us that the smallest correlation between any two values is 0.27. However, there are several above 0.8. This would definitely cause a problem of multicolinearity if we tried to use all of these predictors."
   ]
  },
  {
   "cell_type": "markdown",
   "metadata": {},
   "source": [
    "#### (b) Compute the principal component decomposition of these predictors, and print a summary. How much variance is explained by the first two principal components. "
   ]
  },
  {
   "cell_type": "code",
   "execution_count": 16,
   "metadata": {},
   "outputs": [
    {
     "data": {
      "text/plain": [
       "Importance of components:\n",
       "                          PC1     PC2     PC3     PC4     PC5     PC6     PC7\n",
       "Standard deviation     2.6498 0.85301 0.81909 0.70114 0.54708 0.52831 0.45196\n",
       "Proportion of Variance 0.7021 0.07276 0.06709 0.04916 0.02993 0.02791 0.02043\n",
       "Cumulative Proportion  0.7021 0.77490 0.84199 0.89115 0.92108 0.94899 0.96942\n",
       "                           PC8     PC9   PC10\n",
       "Standard deviation     0.40539 0.27827 0.2530\n",
       "Proportion of Variance 0.01643 0.00774 0.0064\n",
       "Cumulative Proportion  0.98586 0.99360 1.0000"
      ]
     },
     "metadata": {},
     "output_type": "display_data"
    }
   ],
   "source": [
    "pca <- prcomp(cfat[2:11], c=T, s=T)\n",
    "summary(pca)"
   ]
  },
  {
   "cell_type": "markdown",
   "metadata": {},
   "source": [
    "The first two principal components 77.49% of the variance."
   ]
  },
  {
   "cell_type": "markdown",
   "metadata": {},
   "source": [
    "# Problem #4\n",
    "\n",
    "longley is a macroeconomic data set which provides a well-known example for a highly collinear regression.\n",
    "\n",
    "GNP.deflator\n",
    "GNP implicit price deflator (1954=100)\n",
    "\n",
    "GNP\n",
    "Gross National Product.\n",
    "\n",
    "Unemployed\n",
    "number of unemployed.\n",
    "\n",
    "Armed.Forces\n",
    "number of people in the armed forces.\n",
    "\n",
    "Population\n",
    "‘noninstitutionalized’ population ≥ 14 years of age.\n",
    "\n",
    "Year\n",
    "the year (time).\n",
    "\n",
    "Employed\n",
    "number of people employed.\n",
    "\n",
    "The regression lm(Employed ~ .) is known to be highly collinear.\n",
    "\n",
    "#### Fit a ridge regression with the first column of the longley data as the response and all others as predictors, using $\\lambda =seq(0,0.1,0.001)$  Plot the coefficients as a function of $\\lambda$. Place a vertical line at the GCV estimate of $\\lambda$. Print the parameter estimates that you would use from the ridge regression."
   ]
  },
  {
   "cell_type": "code",
   "execution_count": 17,
   "metadata": {},
   "outputs": [
    {
     "name": "stderr",
     "output_type": "stream",
     "text": [
      "Warning message:\n",
      "\"package 'ridge' was built under R version 3.5.3\""
     ]
    },
    {
     "name": "stdout",
     "output_type": "stream",
     "text": [
      "modified HKB estimator is 0.006836982 \n",
      "modified L-W estimator is 0.05267247 \n",
      "smallest value of GCV  at 0.0057 \n"
     ]
    },
    {
     "data": {
      "image/png": "[encoded data removed]",
      "text/plain": [
       "plot without title"
      ]
     },
     "metadata": {},
     "output_type": "display_data"
    }
   ],
   "source": [
    "require(MASS)\n",
    "library(ridge)\n",
    "#head(longley)\n",
    "names(longley)[1] = \"y\"\n",
    "\n",
    "lmod = lm(y~., data = longley)\n",
    "#summary(lmod)\n",
    "\n",
    "#lm.ridge(y~., longley)\n",
    "\n",
    "lmridge <- lm.ridge(y~., longley, lambda = seq(0,0.1,0.001))\n",
    "\n",
    "#lmridge$GCV[6]\n",
    "plot(lmridge, xlab = \"lambda\")\n",
    "abline(v=0.0057)\n",
    "select(lm.ridge(y~., longley, lambda = seq(0,0.1,0.0001)))\n"
   ]
  },
  {
   "cell_type": "markdown",
   "metadata": {},
   "source": [
    "## Problem #5\n",
    "\n",
    "In this problem, we will simulate some data to show how PCA/PCR works.\n",
    "\n",
    "#### (a) Construct three predictors, each with $n = 10$ measurements, that are highly correlated. (e.g., use rnorm())."
   ]
  },
  {
   "cell_type": "code",
   "execution_count": 18,
   "metadata": {},
   "outputs": [],
   "source": [
    "set.seed(88187)\n",
    "n = 10\n",
    "x1 = rnorm(n, 1,1); x2 = x1 + rnorm(n,0,0.1)\n",
    "x3 = x2 + x1 + rnorm(n,0,2)\n",
    "x = cbind(x1,x2,x3)"
   ]
  },
  {
   "cell_type": "markdown",
   "metadata": {},
   "source": [
    "#### (b) Construct the correlation matrix associated with these predictors."
   ]
  },
  {
   "cell_type": "code",
   "execution_count": 19,
   "metadata": {},
   "outputs": [
    {
     "data": {
      "text/html": [
       "<table>\n",
       "<thead><tr><th></th><th scope=col>x1</th><th scope=col>x2</th><th scope=col>x3</th></tr></thead>\n",
       "<tbody>\n",
       "\t<tr><th scope=row>x1</th><td>1.0000000</td><td>0.9713139</td><td>0.1557463</td></tr>\n",
       "\t<tr><th scope=row>x2</th><td>0.9713139</td><td>1.0000000</td><td>0.2196387</td></tr>\n",
       "\t<tr><th scope=row>x3</th><td>0.1557463</td><td>0.2196387</td><td>1.0000000</td></tr>\n",
       "</tbody>\n",
       "</table>\n"
      ],
      "text/latex": [
       "\\begin{tabular}{r|lll}\n",
       "  & x1 & x2 & x3\\\\\n",
       "\\hline\n",
       "\tx1 & 1.0000000 & 0.9713139 & 0.1557463\\\\\n",
       "\tx2 & 0.9713139 & 1.0000000 & 0.2196387\\\\\n",
       "\tx3 & 0.1557463 & 0.2196387 & 1.0000000\\\\\n",
       "\\end{tabular}\n"
      ],
      "text/markdown": [
       "\n",
       "| <!--/--> | x1 | x2 | x3 | \n",
       "|---|---|---|\n",
       "| x1 | 1.0000000 | 0.9713139 | 0.1557463 | \n",
       "| x2 | 0.9713139 | 1.0000000 | 0.2196387 | \n",
       "| x3 | 0.1557463 | 0.2196387 | 1.0000000 | \n",
       "\n",
       "\n"
      ],
      "text/plain": [
       "   x1        x2        x3       \n",
       "x1 1.0000000 0.9713139 0.1557463\n",
       "x2 0.9713139 1.0000000 0.2196387\n",
       "x3 0.1557463 0.2196387 1.0000000"
      ]
     },
     "metadata": {},
     "output_type": "display_data"
    }
   ],
   "source": [
    "z = scale(x)\n",
    "A = 1/(n-1)* t(z)%*%z\n",
    "A"
   ]
  },
  {
   "cell_type": "markdown",
   "metadata": {},
   "source": [
    "#### (c) Find the spectral decomposition of the correlation matrix constructed in part (b)."
   ]
  },
  {
   "cell_type": "code",
   "execution_count": 20,
   "metadata": {},
   "outputs": [
    {
     "data": {
      "text/html": [
       "<table>\n",
       "<thead><tr><th></th><th scope=col>x1</th><th scope=col>x2</th><th scope=col>x3</th></tr></thead>\n",
       "<tbody>\n",
       "\t<tr><th scope=row>x1</th><td>-2.220446e-16</td><td>0.000000e+00 </td><td>-2.775558e-17</td></tr>\n",
       "\t<tr><th scope=row>x2</th><td> 0.000000e+00</td><td>4.440892e-16 </td><td> 6.383782e-16</td></tr>\n",
       "\t<tr><th scope=row>x3</th><td>-5.551115e-17</td><td>6.661338e-16 </td><td>-1.332268e-15</td></tr>\n",
       "</tbody>\n",
       "</table>\n"
      ],
      "text/latex": [
       "\\begin{tabular}{r|lll}\n",
       "  & x1 & x2 & x3\\\\\n",
       "\\hline\n",
       "\tx1 & -2.220446e-16 & 0.000000e+00  & -2.775558e-17\\\\\n",
       "\tx2 &  0.000000e+00 & 4.440892e-16  &  6.383782e-16\\\\\n",
       "\tx3 & -5.551115e-17 & 6.661338e-16  & -1.332268e-15\\\\\n",
       "\\end{tabular}\n"
      ],
      "text/markdown": [
       "\n",
       "| <!--/--> | x1 | x2 | x3 | \n",
       "|---|---|---|\n",
       "| x1 | -2.220446e-16 | 0.000000e+00  | -2.775558e-17 | \n",
       "| x2 |  0.000000e+00 | 4.440892e-16  |  6.383782e-16 | \n",
       "| x3 | -5.551115e-17 | 6.661338e-16  | -1.332268e-15 | \n",
       "\n",
       "\n"
      ],
      "text/plain": [
       "   x1            x2           x3           \n",
       "x1 -2.220446e-16 0.000000e+00 -2.775558e-17\n",
       "x2  0.000000e+00 4.440892e-16  6.383782e-16\n",
       "x3 -5.551115e-17 6.661338e-16 -1.332268e-15"
      ]
     },
     "metadata": {},
     "output_type": "display_data"
    }
   ],
   "source": [
    "e = eigen(A)\n",
    "V = e$vectors\n",
    "D = diag(e$values)\n",
    "A1 = V%*%D%*%t(V)\n",
    "A-A1"
   ]
  },
  {
   "cell_type": "markdown",
   "metadata": {},
   "source": [
    "#### (d) Find the principal components of the original predictor matrix. Confirm that the variance/covariance of the principal components what is suggested by theory."
   ]
  },
  {
   "cell_type": "code",
   "execution_count": 21,
   "metadata": {},
   "outputs": [
    {
     "data": {
      "text/html": [
       "<table>\n",
       "<tbody>\n",
       "\t<tr><td> 2.039181e+00</td><td>-3.885660e-17</td><td> 1.866650e-16</td></tr>\n",
       "\t<tr><td>-3.885660e-17</td><td> 9.343110e-01</td><td>-6.187327e-16</td></tr>\n",
       "\t<tr><td> 1.866650e-16</td><td>-6.187327e-16</td><td> 2.650836e-02</td></tr>\n",
       "</tbody>\n",
       "</table>\n"
      ],
      "text/latex": [
       "\\begin{tabular}{lll}\n",
       "\t  2.039181e+00 & -3.885660e-17 &  1.866650e-16\\\\\n",
       "\t -3.885660e-17 &  9.343110e-01 & -6.187327e-16\\\\\n",
       "\t  1.866650e-16 & -6.187327e-16 &  2.650836e-02\\\\\n",
       "\\end{tabular}\n"
      ],
      "text/markdown": [
       "\n",
       "|  2.039181e+00 | -3.885660e-17 |  1.866650e-16 | \n",
       "| -3.885660e-17 |  9.343110e-01 | -6.187327e-16 | \n",
       "|  1.866650e-16 | -6.187327e-16 |  2.650836e-02 | \n",
       "\n",
       "\n"
      ],
      "text/plain": [
       "     [,1]          [,2]          [,3]         \n",
       "[1,]  2.039181e+00 -3.885660e-17  1.866650e-16\n",
       "[2,] -3.885660e-17  9.343110e-01 -6.187327e-16\n",
       "[3,]  1.866650e-16 -6.187327e-16  2.650836e-02"
      ]
     },
     "metadata": {},
     "output_type": "display_data"
    },
    {
     "data": {
      "text/html": [
       "<table>\n",
       "<tbody>\n",
       "\t<tr><td> 2.039181e+00</td><td>-7.401487e-17</td><td> 1.827242e-16</td></tr>\n",
       "\t<tr><td>-7.401487e-17</td><td> 9.343110e-01</td><td>-6.229585e-16</td></tr>\n",
       "\t<tr><td> 1.966875e-16</td><td>-6.176753e-16</td><td> 2.650836e-02</td></tr>\n",
       "</tbody>\n",
       "</table>\n"
      ],
      "text/latex": [
       "\\begin{tabular}{lll}\n",
       "\t  2.039181e+00 & -7.401487e-17 &  1.827242e-16\\\\\n",
       "\t -7.401487e-17 &  9.343110e-01 & -6.229585e-16\\\\\n",
       "\t  1.966875e-16 & -6.176753e-16 &  2.650836e-02\\\\\n",
       "\\end{tabular}\n"
      ],
      "text/markdown": [
       "\n",
       "|  2.039181e+00 | -7.401487e-17 |  1.827242e-16 | \n",
       "| -7.401487e-17 |  9.343110e-01 | -6.229585e-16 | \n",
       "|  1.966875e-16 | -6.176753e-16 |  2.650836e-02 | \n",
       "\n",
       "\n"
      ],
      "text/plain": [
       "     [,1]          [,2]          [,3]         \n",
       "[1,]  2.039181e+00 -7.401487e-17  1.827242e-16\n",
       "[2,] -7.401487e-17  9.343110e-01 -6.229585e-16\n",
       "[3,]  1.966875e-16 -6.176753e-16  2.650836e-02"
      ]
     },
     "metadata": {},
     "output_type": "display_data"
    },
    {
     "data": {
      "text/plain": [
       "Importance of components:\n",
       "                          PC1    PC2     PC3\n",
       "Standard deviation     1.4280 0.9666 0.16281\n",
       "Proportion of Variance 0.6797 0.3114 0.00884\n",
       "Cumulative Proportion  0.6797 0.9912 1.00000"
      ]
     },
     "metadata": {},
     "output_type": "display_data"
    },
    {
     "name": "stderr",
     "output_type": "stream",
     "text": [
      "Warning message:\n",
      "\"In prcomp.default(x, cor = T) :\n",
      " extra argument 'cor' will be disregarded\""
     ]
    },
    {
     "data": {
      "text/plain": [
       "Importance of components:\n",
       "                          PC1    PC2     PC3\n",
       "Standard deviation     1.4068 0.6169 0.07317\n",
       "Proportion of Variance 0.8368 0.1609 0.00226\n",
       "Cumulative Proportion  0.8368 0.9977 1.00000"
      ]
     },
     "metadata": {},
     "output_type": "display_data"
    }
   ],
   "source": [
    "C = z%*%(V)\n",
    "var(C)\n",
    "1/(n-1)*t(C)%*%C\n",
    "s = prcomp(x, scale = T)\n",
    "summary(s)\n",
    "s2 = prcomp(x, cor = T)\n",
    "summary(s2)"
   ]
  },
  {
   "cell_type": "markdown",
   "metadata": {},
   "source": [
    "#### (e) Simulate a response according to the relationship \n",
    "\n",
    "$$ Y = 2X_1 + 4X_2 + X_3 + \\varepsilon,$$ \n",
    "\n",
    "where $\\varepsilon \\sim N(0,0.25)$. Fit an lm to this data, and calculate the VIFs for the predictors. What do you notice?"
   ]
  },
  {
   "cell_type": "code",
   "execution_count": 22,
   "metadata": {},
   "outputs": [
    {
     "data": {
      "text/plain": [
       "\n",
       "Call:\n",
       "lm(formula = y ~ ., data = df)\n",
       "\n",
       "Residuals:\n",
       "    Min      1Q  Median      3Q     Max \n",
       "-0.4689 -0.3447  0.1477  0.2151  0.4055 \n",
       "\n",
       "Coefficients:\n",
       "            Estimate Std. Error t value Pr(>|t|)    \n",
       "(Intercept)  0.03469    0.37088   0.094  0.92853    \n",
       "x1           0.56396    1.32400   0.426  0.68500    \n",
       "x2           5.21651    1.38682   3.762  0.00938 ** \n",
       "x3           0.96389    0.10529   9.155 9.56e-05 ***\n",
       "---\n",
       "Signif. codes:  0 '***' 0.001 '**' 0.01 '*' 0.05 '.' 0.1 ' ' 1\n",
       "\n",
       "Residual standard error: 0.418 on 6 degrees of freedom\n",
       "Multiple R-squared:  0.9883,\tAdjusted R-squared:  0.9824 \n",
       "F-statistic: 168.6 on 3 and 6 DF,  p-value: 3.506e-06\n"
      ]
     },
     "metadata": {},
     "output_type": "display_data"
    },
    {
     "data": {
      "text/html": [
       "<dl class=dl-horizontal>\n",
       "\t<dt>x1</dt>\n",
       "\t\t<dd>18.8450350951952</dd>\n",
       "\t<dt>x2</dt>\n",
       "\t\t<dd>19.31992835913</dd>\n",
       "\t<dt>x3</dt>\n",
       "\t\t<dd>1.11968877856507</dd>\n",
       "</dl>\n"
      ],
      "text/latex": [
       "\\begin{description*}\n",
       "\\item[x1] 18.8450350951952\n",
       "\\item[x2] 19.31992835913\n",
       "\\item[x3] 1.11968877856507\n",
       "\\end{description*}\n"
      ],
      "text/markdown": [
       "x1\n",
       ":   18.8450350951952x2\n",
       ":   19.31992835913x3\n",
       ":   1.11968877856507\n",
       "\n"
      ],
      "text/plain": [
       "       x1        x2        x3 \n",
       "18.845035 19.319928  1.119689 "
      ]
     },
     "metadata": {},
     "output_type": "display_data"
    }
   ],
   "source": [
    "y = 2*x1 + 4*x2 + x3 + rnorm(n,0,0.5)\n",
    "\n",
    "df <- data.frame(y,x1,x2,x3)\n",
    "lmod <- lm(y~., data = df)\n",
    "summary(lmod)\n",
    "library(faraway)\n",
    "vif(lmod)"
   ]
  },
  {
   "cell_type": "markdown",
   "metadata": {},
   "source": [
    "#### (f) Now, fit an lm to the response created in the previous part, but use just the first two principal components as predictors. Calculate the VIFs. What do you notice?"
   ]
  },
  {
   "cell_type": "code",
   "execution_count": 23,
   "metadata": {},
   "outputs": [
    {
     "data": {
      "text/plain": [
       "\n",
       "Call:\n",
       "lm(formula = y ~ PC1 + PC2, data = df2)\n",
       "\n",
       "Residuals:\n",
       "     Min       1Q   Median       3Q      Max \n",
       "-0.79045 -0.13715  0.03696  0.33850  0.42806 \n",
       "\n",
       "Coefficients:\n",
       "            Estimate Std. Error t value Pr(>|t|)    \n",
       "(Intercept)   7.6884     0.1469  52.334 2.44e-10 ***\n",
       "PC1           2.0972     0.1084  19.339 2.46e-07 ***\n",
       "PC2           0.9274     0.1602   5.789 0.000671 ***\n",
       "---\n",
       "Signif. codes:  0 '***' 0.001 '**' 0.01 '*' 0.05 '.' 0.1 ' ' 1\n",
       "\n",
       "Residual standard error: 0.4646 on 7 degrees of freedom\n",
       "Multiple R-squared:  0.9831,\tAdjusted R-squared:  0.9783 \n",
       "F-statistic: 203.8 on 2 and 7 DF,  p-value: 6.259e-07\n"
      ]
     },
     "metadata": {},
     "output_type": "display_data"
    },
    {
     "data": {
      "text/html": [
       "<dl class=dl-horizontal>\n",
       "\t<dt>PC1</dt>\n",
       "\t\t<dd>1</dd>\n",
       "\t<dt>PC2</dt>\n",
       "\t\t<dd>1</dd>\n",
       "</dl>\n"
      ],
      "text/latex": [
       "\\begin{description*}\n",
       "\\item[PC1] 1\n",
       "\\item[PC2] 1\n",
       "\\end{description*}\n"
      ],
      "text/markdown": [
       "PC1\n",
       ":   1PC2\n",
       ":   1\n",
       "\n"
      ],
      "text/plain": [
       "PC1 PC2 \n",
       "  1   1 "
      ]
     },
     "metadata": {},
     "output_type": "display_data"
    }
   ],
   "source": [
    "df2 <- data.frame(y, s$x)\n",
    "lmodPCA <- lm(y~PC1 + PC2, data = df2)\n",
    "\n",
    "summary(lmodPCA)\n",
    "\n",
    "vif(lmodPCA)"
   ]
  },
  {
   "cell_type": "markdown",
   "metadata": {},
   "source": [
    "#### (g) Calculate the mean squared error of prediction for each of the two models above. Which one does better? Why, in some contexts, might you prefer the one that does a little worse?"
   ]
  },
  {
   "cell_type": "code",
   "execution_count": 24,
   "metadata": {},
   "outputs": [
    {
     "data": {
      "text/html": [
       "0.151077932679312"
      ],
      "text/latex": [
       "0.151077932679312"
      ],
      "text/markdown": [
       "0.151077932679312"
      ],
      "text/plain": [
       "[1] 0.1510779"
      ]
     },
     "metadata": {},
     "output_type": "display_data"
    },
    {
     "data": {
      "text/html": [
       "0.104847025229246"
      ],
      "text/latex": [
       "0.104847025229246"
      ],
      "text/markdown": [
       "0.104847025229246"
      ],
      "text/plain": [
       "[1] 0.104847"
      ]
     },
     "metadata": {},
     "output_type": "display_data"
    }
   ],
   "source": [
    "with(df2, mean((y-fitted(lmodPCA))^2))\n",
    "with(df, mean(resid(lmod)^2))"
   ]
  },
  {
   "cell_type": "code",
   "execution_count": null,
   "metadata": {},
   "outputs": [],
   "source": []
  }
 ],
 "metadata": {
  "kernelspec": {
   "display_name": "R",
   "language": "R",
   "name": "ir"
  },
  "language_info": {
   "codemirror_mode": "r",
   "file_extension": ".r",
   "mimetype": "text/x-r-source",
   "name": "R",
   "pygments_lexer": "r",
   "version": "3.5.1"
  }
 },
 "nbformat": 4,
 "nbformat_minor": 2
}
